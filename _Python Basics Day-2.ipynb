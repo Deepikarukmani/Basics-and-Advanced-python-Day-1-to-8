{
 "cells": [
  {
   "cell_type": "code",
   "execution_count": 1,
   "id": "d852750f",
   "metadata": {},
   "outputs": [
    {
     "name": "stdout",
     "output_type": "stream",
     "text": [
      "deepika\n",
      "['deepika']\n"
     ]
    },
    {
     "data": {
      "text/plain": [
       "list"
      ]
     },
     "execution_count": 1,
     "metadata": {},
     "output_type": "execute_result"
    }
   ],
   "source": [
    "b = input().split('%') # gubsghajhdjkas%nkbkjsdf%jkshdkjas%\n",
    "print(b)\n",
    "type(b)"
   ]
  },
  {
   "cell_type": "code",
   "execution_count": 2,
   "id": "fbe8edb6",
   "metadata": {},
   "outputs": [
    {
     "name": "stdout",
     "output_type": "stream",
     "text": [
      "deepika\n",
      "deepika\n",
      "Enter Your Namedeepika\n"
     ]
    },
    {
     "data": {
      "text/plain": [
       "str"
      ]
     },
     "execution_count": 2,
     "metadata": {},
     "output_type": "execute_result"
    }
   ],
   "source": [
    "input()\n",
    "type(input())\n",
    "type(input('Enter Your Name'))\n"
   ]
  },
  {
   "cell_type": "code",
   "execution_count": 3,
   "id": "2012e9f5",
   "metadata": {},
   "outputs": [
    {
     "name": "stdout",
     "output_type": "stream",
     "text": [
      "12814881.801123124\n",
      "125.07305891792001\n"
     ]
    }
   ],
   "source": [
    "a = 123123.123123123\n",
    "b = 12879.678\n",
    "c = 12678879\n",
    "d = a + b + c\n",
    "d1 = a * b / c\n",
    "print(d)\n",
    "print(d1)"
   ]
  },
  {
   "cell_type": "code",
   "execution_count": 4,
   "id": "eba36dc4",
   "metadata": {},
   "outputs": [
    {
     "name": "stdout",
     "output_type": "stream",
     "text": [
      "5\n"
     ]
    }
   ],
   "source": [
    "a = 100\n",
    "a = a + 5\n",
    "a = 5\n",
    "print(a)"
   ]
  },
  {
   "cell_type": "code",
   "execution_count": 6,
   "id": "e7d01bbc",
   "metadata": {},
   "outputs": [
    {
     "name": "stdout",
     "output_type": "stream",
     "text": [
      "<class 'int'>\n",
      "<class 'str'>\n"
     ]
    }
   ],
   "source": [
    "z = '234324'\n",
    "a = 324234\n",
    "print(type(a))\n",
    "print(type(z))"
   ]
  },
  {
   "cell_type": "raw",
   "id": "e75bfdfa",
   "metadata": {},
   "source": [
    "INDEXING"
   ]
  },
  {
   "cell_type": "code",
   "execution_count": 9,
   "id": "54df8ddf",
   "metadata": {},
   "outputs": [
    {
     "name": "stdout",
     "output_type": "stream",
     "text": [
      "I\n"
     ]
    },
    {
     "data": {
      "text/plain": [
       "'e'"
      ]
     },
     "execution_count": 9,
     "metadata": {},
     "output_type": "execute_result"
    }
   ],
   "source": [
    "a = 'I live in India'\n",
    "print(a[10])\n",
    "a = 'I live in India I live in India I live in India I live magesh India'\n",
    "a[-9]"
   ]
  },
  {
   "cell_type": "raw",
   "id": "f8b63503",
   "metadata": {},
   "source": [
    " SLICING:"
   ]
  },
  {
   "cell_type": "code",
   "execution_count": 11,
   "id": "b82f06d9",
   "metadata": {},
   "outputs": [
    {
     "name": "stdout",
     "output_type": "stream",
     "text": [
      "liv\n",
      "live\n",
      "live\n",
      "live\n",
      "I live\n",
      "live in India\n",
      "I live in India\n",
      "Indi\n",
      "India\n",
      "Ilv nIda\n",
      "len\n"
     ]
    }
   ],
   "source": [
    "a = 'I live in India'\n",
    "\n",
    "print(a[2 : 5]) \n",
    "print(a[2 : 5 + 1 : 1 ]) \n",
    "print(a[2 : 5 + 1  ]) \n",
    "print(a[2:6])\n",
    "print(a[:6])\n",
    "print(a[2:])\n",
    "print(a[:])\n",
    "print(a[-5:-1])\n",
    "print(a[-5:])\n",
    "print(a[::2]) \n",
    "print(a[2:9:3])"
   ]
  },
  {
   "cell_type": "code",
   "execution_count": 12,
   "id": "ee790ce1",
   "metadata": {},
   "outputs": [
    {
     "name": "stdout",
     "output_type": "stream",
     "text": [
      "evil\n",
      "aidnI\n",
      "aidnI\n",
      "aidnI\n",
      "evil \n",
      "\n",
      "evil I\n",
      "aidnI ni evil I\n",
      "I live in India\n"
     ]
    }
   ],
   "source": [
    "a = 'I live in India'\n",
    "#    0123456789.....\n",
    "\n",
    "print(a[5:1:-1])\n",
    "print(a[-1:-5-1:-1]) \n",
    "print(a[14:10-1:-1]) \n",
    "print(a[14:9:-1]) \n",
    "print(a[5:0:-1]) \n",
    "print(a[5:0-1:-1]) \n",
    "print(a[5::-1]) \n",
    "print(a[::-1]) \n",
    "print(a[::1])"
   ]
  },
  {
   "cell_type": "raw",
   "id": "cb6bb516",
   "metadata": {},
   "source": [
    "STR METHODS/FUNCTIONS:"
   ]
  },
  {
   "cell_type": "code",
   "execution_count": 14,
   "id": "524f338c",
   "metadata": {},
   "outputs": [],
   "source": [
    "# upper\n",
    "# lower\n",
    "# captilize\n",
    "# title\n",
    "# swapcase"
   ]
  },
  {
   "cell_type": "code",
   "execution_count": 41,
   "id": "9d5d397b",
   "metadata": {},
   "outputs": [
    {
     "name": "stdout",
     "output_type": "stream",
     "text": [
      "I VEASDF 23423 ASDKF ASDF DEEPIKA BOOK\n",
      "i veasdf 23423 asdkf asdf deepika book\n",
      "I veasdf 23423 asdkf asdf deepika book\n",
      "I Veasdf 23423 Asdkf Asdf Deepika Book\n",
      "i VEASDF 23423 aSDkF ASDF DEEPIKA BOOK\n"
     ]
    }
   ],
   "source": [
    "a = 'I veasdf 23423 AsdKf asdf deepika book'\n",
    "\n",
    "# syntax:\n",
    "# str_element.function()\n",
    "\n",
    "print(a.upper())\n",
    "print(a.lower())\n",
    "print(a.capitalize())\n",
    "print(a.title())\n",
    "print(a.swapcase())"
   ]
  },
  {
   "cell_type": "code",
   "execution_count": 16,
   "id": "30814ff8",
   "metadata": {},
   "outputs": [
    {
     "name": "stdout",
     "output_type": "stream",
     "text": [
      "False\n",
      "True\n",
      "False\n",
      "True\n",
      "True\n",
      "False\n"
     ]
    }
   ],
   "source": [
    "a = 'I live in India'\n",
    "print(a.isalpha()) # all elements must be alphabets\n",
    "a = 'Magesh'\n",
    "print(a.isalpha())\n",
    "a = 'I live in India my no is 2134324'\n",
    "print(a.isalnum()) # all elements must be alphabets | numbers\n",
    "a = 'Ilivinmynois2134324'\n",
    "print(a.isalnum())\n",
    "a = '2134234'\n",
    "print(a.isdigit()) # all elements must be numbers\n",
    "a = '213.4234'\n",
    "print(a.isdigit())"
   ]
  },
  {
   "cell_type": "code",
   "execution_count": 24,
   "id": "3f71f427",
   "metadata": {},
   "outputs": [
    {
     "name": "stdout",
     "output_type": "stream",
     "text": [
      "97\n",
      "68\n",
      "98\n",
      "84\n",
      "100\n"
     ]
    }
   ],
   "source": [
    "print(ord('a')) # output will be ascii numbers\n",
    "print(ord('D'))\n",
    "print(ord('b'))\n",
    "print(ord('T')) # output will be ascii numbers\n",
    "print(ord('d'))"
   ]
  },
  {
   "cell_type": "code",
   "execution_count": 25,
   "id": "28fa9775",
   "metadata": {},
   "outputs": [
    {
     "name": "stdout",
     "output_type": "stream",
     "text": [
      "A\n"
     ]
    }
   ],
   "source": [
    "print(chr(65)) # output will be ascii character"
   ]
  },
  {
   "cell_type": "code",
   "execution_count": 28,
   "id": "5886a555",
   "metadata": {},
   "outputs": [
    {
     "name": "stdout",
     "output_type": "stream",
     "text": [
      "4\n",
      "3\n",
      "2\n",
      "16\n"
     ]
    }
   ],
   "source": [
    "#index\n",
    "\n",
    "a = 'I live in India living good'\n",
    "#    0123456789.....\n",
    "\n",
    "print(a.index('v')) # 4\n",
    "print(a.index('i')) # 3\n",
    "print(a.index('liv')) # 2\n",
    "print(a.index('liv',10)) # 16\n",
    "#print(a.index('liv',17)) # Error"
   ]
  },
  {
   "cell_type": "code",
   "execution_count": 29,
   "id": "13f8410b",
   "metadata": {},
   "outputs": [
    {
     "name": "stdout",
     "output_type": "stream",
     "text": [
      "4\n",
      "3\n",
      "2\n",
      "16\n",
      "-1\n"
     ]
    }
   ],
   "source": [
    "# find:\n",
    "\n",
    "# similar to index\n",
    "\n",
    "# 1. if the substring is not fount the output will be -1\n",
    "\n",
    "a = 'I live in India living good'\n",
    "#    0123456789.....\n",
    "\n",
    "print(a.find('v')) # 4\n",
    "print(a.find('i')) # 3\n",
    "print(a.find('liv')) # 2\n",
    "print(a.find('liv',10)) # 16\n",
    "print(a.find('liv',17))"
   ]
  },
  {
   "cell_type": "code",
   "execution_count": 30,
   "id": "a38f4223",
   "metadata": {},
   "outputs": [
    {
     "name": "stdout",
     "output_type": "stream",
     "text": [
      "5\n",
      "2\n"
     ]
    }
   ],
   "source": [
    "# count:\n",
    "\n",
    "# how many no of times the element is repeated in the string.\n",
    "# casee sensitive\n",
    "\n",
    "# syntax:\n",
    "# str_element.count('substing')\n",
    "\n",
    "a = 'I live in India living good'\n",
    "print(a.count('i')) # 5\n",
    "print(a.count('liv')) # 2"
   ]
  },
  {
   "cell_type": "code",
   "execution_count": 40,
   "id": "284f440a",
   "metadata": {},
   "outputs": [
    {
     "name": "stdout",
     "output_type": "stream",
     "text": [
      "d&e&e&P&I&K&A\n",
      "d-e-e-P-I-K-A\n"
     ]
    }
   ],
   "source": [
    "# join:\n",
    "\n",
    "# syntax:\n",
    "# 'substing'.join(str_element)\n",
    "\n",
    "# 1. the substing will be added in between all the str elements\n",
    "\n",
    "a = 'deePIKA'\n",
    "print('&'.join(a)) # 'M a g e s h'\n",
    "print('-'.join(a)) # 'M-a-g-e-s-h"
   ]
  },
  {
   "cell_type": "code",
   "execution_count": 35,
   "id": "3645fe61",
   "metadata": {},
   "outputs": [
    {
     "name": "stdout",
     "output_type": "stream",
     "text": [
      "I live in India living*good\n",
      "I/live/in/India/living*good\n",
      "I-live-IN-India-livINg*good\n"
     ]
    }
   ],
   "source": [
    "# replace:\n",
    "\n",
    "a = 'I-live-in-India-living*good'\n",
    "\n",
    "# syntax:\n",
    "# a.replace('old_substr','new_substr')\n",
    "\n",
    "print(a.replace('-',' '))\n",
    "print(a.replace('-','/'))\n",
    "print(a.replace('in','IN'))"
   ]
  },
  {
   "cell_type": "code",
   "execution_count": 36,
   "id": "32a0690c",
   "metadata": {},
   "outputs": [
    {
     "name": "stdout",
     "output_type": "stream",
     "text": [
      "True\n",
      "False\n"
     ]
    }
   ],
   "source": [
    "# startswith\n",
    "\n",
    "av = 'staying is like'\n",
    "print(av.startswith('stay'))\n",
    "print(av.startswith('Stay')) #CASE SENSITIVE"
   ]
  },
  {
   "cell_type": "raw",
   "id": "41b07c39",
   "metadata": {},
   "source": [
    "# LIST:"
   ]
  },
  {
   "cell_type": "code",
   "execution_count": 44,
   "id": "806d93de",
   "metadata": {},
   "outputs": [
    {
     "data": {
      "text/plain": [
       "['i', ' ', 'l', 'i', 'v', 'e', ' ', 'i', 'n', ' ', 'I', 'n', 'd', 'i', 'a']"
      ]
     },
     "execution_count": 44,
     "metadata": {},
     "output_type": "execute_result"
    }
   ],
   "source": [
    "a = 'i live in India'\n",
    "list(a)"
   ]
  },
  {
   "cell_type": "code",
   "execution_count": 79,
   "id": "ea070f10",
   "metadata": {},
   "outputs": [
    {
     "name": "stdout",
     "output_type": "stream",
     "text": [
      "['', ' live in ', 'ndia']\n",
      "['I', 'live', 'in', 'India']\n",
      "['I', 'live', 'in', 'India']\n",
      "I live in India\n"
     ]
    }
   ],
   "source": [
    "# split:\n",
    "\n",
    "a = 'I live in India'\n",
    "print(a.split('I')) \n",
    "\n",
    "a = 'I live in India'\n",
    "print(a.split())\n",
    "print(a.split(' '))\n",
    "print(\"\".join(a))\n",
    "# I live in India"
   ]
  },
  {
   "cell_type": "code",
   "execution_count": 42,
   "id": "f3225b5a",
   "metadata": {},
   "outputs": [
    {
     "name": "stdout",
     "output_type": "stream",
     "text": [
      "rose\n",
      "s\n",
      "s\n",
      "P\n"
     ]
    }
   ],
   "source": [
    "a = [1,2,3,4,'deePIKA','rose',True,2.234,3.234]\n",
    "b = a[5]\n",
    "print(b)\n",
    "print(b[2])\n",
    "print(a[5][2])\n",
    "print(a[4][3])"
   ]
  },
  {
   "cell_type": "code",
   "execution_count": 43,
   "id": "30db8471",
   "metadata": {},
   "outputs": [
    {
     "name": "stdout",
     "output_type": "stream",
     "text": [
      "[11, 22, 34]\n",
      "22\n",
      "22\n"
     ]
    }
   ],
   "source": [
    "a = [1,2,3,4,'deePIKA','rose',True,2.234,3.234,[11,22,34]]\n",
    "b = a[-1]\n",
    "print(b)\n",
    "print(b[1])\n",
    "print(a[-1][1])\n",
    "# print(a[-1][1])"
   ]
  },
  {
   "cell_type": "code",
   "execution_count": 90,
   "id": "1ebab665",
   "metadata": {},
   "outputs": [
    {
     "name": "stdout",
     "output_type": "stream",
     "text": [
      "[1, 2, 3, 4, 'magesh', 'rose', True, 2.234, 3.234, [11, 22, 34], 'good', 10, 10.578]\n"
     ]
    },
    {
     "data": {
      "text/plain": [
       "[1, 2, 3, 4, [11, 22, 34, 'new'], 'magesh', 'rose']"
      ]
     },
     "execution_count": 90,
     "metadata": {},
     "output_type": "execute_result"
    }
   ],
   "source": [
    "# 1. append()\n",
    "\n",
    "a = [1,2,3,4,'magesh','rose',True,2.234,3.234,[11,22,34]]\n",
    "\n",
    "a.append(\"good\")\n",
    "a.append(10)\n",
    "a.append(10.578)\n",
    "print(a)\n",
    "a = [1,2,3,4,[11,22,34],'magesh','rose']\n",
    "a[4].append('new')\n",
    "a"
   ]
  },
  {
   "cell_type": "code",
   "execution_count": 87,
   "id": "a7509183",
   "metadata": {},
   "outputs": [
    {
     "name": "stdout",
     "output_type": "stream",
     "text": [
      "[1, 2, 3, 4, 'magesh', 'rose', True, 2.234, 3.234]\n",
      "[1, 2, 3, 4, 'rose', True, 2.234, 3.234]\n"
     ]
    }
   ],
   "source": [
    "# 2.pop()\n",
    "\n",
    "\n",
    "a = [1,2,3,4,'magesh','rose',True,2.234,3.234,[11,22,34]]\n",
    "a.pop() # it will remove the last element\n",
    "print(a)\n",
    "a.pop(4) # it will remove the index element\n",
    "print(a)"
   ]
  },
  {
   "cell_type": "code",
   "execution_count": 88,
   "id": "a1847043",
   "metadata": {},
   "outputs": [
    {
     "data": {
      "text/plain": [
       "[1, 2, 3, 4, 'new data', 'magesh', 'rose', True, 2.234, 3.234, [11, 22, 34]]"
      ]
     },
     "execution_count": 88,
     "metadata": {},
     "output_type": "execute_result"
    }
   ],
   "source": [
    "# 3.insert()\n",
    "\n",
    "\n",
    "a = [1,2,3,4,'magesh','rose',True,2.234,3.234,[11,22,34]]\n",
    "a.insert(4,'new data') # to add element to the desired index position\n",
    "a"
   ]
  },
  {
   "cell_type": "code",
   "execution_count": 89,
   "id": "ac5c7aff",
   "metadata": {},
   "outputs": [
    {
     "name": "stdout",
     "output_type": "stream",
     "text": [
      "[1, 2, 3, 4, 'magesh', 'rose', True, 2.234, 3.234, [11, 22, 34]]\n",
      "[1, 2, 3, 4, 'magesh', 'rose', [True, 2.234, 3.234, [11, 22, 34]]]\n"
     ]
    }
   ],
   "source": [
    "# 4.extend()\n",
    "\n",
    "\n",
    "a = [1,2,3,4,'magesh','rose']\n",
    "a.extend([True,2.234,3.234,[11,22,34]])\n",
    "print(a)\n",
    "\n",
    "a = [1,2,3,4,'magesh','rose']\n",
    "a.append([True,2.234,3.234,[11,22,34]])\n",
    "print(a)"
   ]
  },
  {
   "cell_type": "code",
   "execution_count": 91,
   "id": "3ed3eab6",
   "metadata": {},
   "outputs": [
    {
     "name": "stdout",
     "output_type": "stream",
     "text": [
      "1\n",
      "2\n"
     ]
    }
   ],
   "source": [
    "# 5.count:\n",
    "\n",
    "a = [1,2,3,4,5,'1',3,'5','8','1','3','2']\n",
    "print(a.count(1))\n",
    "print(a.count('1'))"
   ]
  },
  {
   "cell_type": "code",
   "execution_count": 92,
   "id": "da145aa7",
   "metadata": {},
   "outputs": [
    {
     "data": {
      "text/plain": [
       "'5*8*1*3*2'"
      ]
     },
     "execution_count": 92,
     "metadata": {},
     "output_type": "execute_result"
    }
   ],
   "source": [
    "# 5.join:\n",
    "\n",
    "a =['5','8','1','3','2']\n",
    "'*'.join(a)"
   ]
  },
  {
   "cell_type": "code",
   "execution_count": 93,
   "id": "607c0b59",
   "metadata": {},
   "outputs": [
    {
     "name": "stdout",
     "output_type": "stream",
     "text": [
      "15\n",
      "10\n"
     ]
    }
   ],
   "source": [
    "# call by value\n",
    "a = 10\n",
    "b = a\n",
    "\n",
    "a = a + 5\n",
    "\n",
    "print(a)\n",
    "print(b)"
   ]
  },
  {
   "cell_type": "code",
   "execution_count": 94,
   "id": "1f44815a",
   "metadata": {},
   "outputs": [
    {
     "name": "stdout",
     "output_type": "stream",
     "text": [
      "[1, 2, 3, 4]\n",
      "[1, 2, 3, 4]\n"
     ]
    }
   ],
   "source": [
    "a = [1,2]\n",
    "b = a\n",
    "\n",
    "# call by reference\n",
    "b.append(3)\n",
    "a.append(4)\n",
    "\n",
    "print(a)     \n",
    "print(b)  "
   ]
  },
  {
   "cell_type": "code",
   "execution_count": 95,
   "id": "7db2fa4f",
   "metadata": {},
   "outputs": [
    {
     "name": "stdout",
     "output_type": "stream",
     "text": [
      "[1, 2, 4]\n",
      "[1, 2, 3]\n"
     ]
    }
   ],
   "source": [
    "a = [1,2]\n",
    "b = a.copy()\n",
    "\n",
    "b.append(3)\n",
    "a.append(4)\n",
    "\n",
    "print(a)\n",
    "print(b)"
   ]
  },
  {
   "cell_type": "raw",
   "id": "365e2d4a",
   "metadata": {},
   "source": [
    "ITERATION:"
   ]
  },
  {
   "cell_type": "code",
   "execution_count": null,
   "id": "f94841d1",
   "metadata": {},
   "outputs": [],
   "source": [
    "# 1. for loop     | finite loop\n",
    "# 2. while loop"
   ]
  },
  {
   "cell_type": "code",
   "execution_count": 96,
   "id": "31a8e6d1",
   "metadata": {},
   "outputs": [
    {
     "name": "stdout",
     "output_type": "stream",
     "text": [
      "1\n",
      "2\n",
      "3\n",
      "4\n",
      "5\n"
     ]
    }
   ],
   "source": [
    "a = '12345'\n",
    "\n",
    "for i in a:\n",
    "  print(i)"
   ]
  },
  {
   "cell_type": "code",
   "execution_count": 97,
   "id": "602748ec",
   "metadata": {},
   "outputs": [
    {
     "name": "stdout",
     "output_type": "stream",
     "text": [
      "1\n",
      "2\n",
      "3\n",
      "4\n",
      "5\n"
     ]
    }
   ],
   "source": [
    "a = [1,2,3,4,5]\n",
    "for i in a:\n",
    "  print(i)"
   ]
  },
  {
   "cell_type": "code",
   "execution_count": null,
   "id": "ffc88f39",
   "metadata": {},
   "outputs": [],
   "source": [
    "a = [1,2,3,4,5]\n",
    "for i in a:\n",
    "  print(i*'*')"
   ]
  },
  {
   "cell_type": "raw",
   "id": "35524488",
   "metadata": {},
   "source": [
    "##concatenation "
   ]
  },
  {
   "cell_type": "code",
   "execution_count": 98,
   "id": "4474157c",
   "metadata": {},
   "outputs": [
    {
     "data": {
      "text/plain": [
       "'titiRose'"
      ]
     },
     "execution_count": 98,
     "metadata": {},
     "output_type": "execute_result"
    }
   ],
   "source": [
    "a = 'titi'\n",
    "b = 'Rose'\n",
    "\n",
    "a + b"
   ]
  },
  {
   "cell_type": "code",
   "execution_count": 99,
   "id": "6a8c9f23",
   "metadata": {},
   "outputs": [
    {
     "data": {
      "text/plain": [
       "'titititititi'"
      ]
     },
     "execution_count": 99,
     "metadata": {},
     "output_type": "execute_result"
    }
   ],
   "source": [
    "a = 'titi'\n",
    "\n",
    "a * 3"
   ]
  },
  {
   "cell_type": "raw",
   "id": "a0b5e571",
   "metadata": {},
   "source": [
    "CONDITIONS"
   ]
  },
  {
   "cell_type": "code",
   "execution_count": null,
   "id": "3e041084",
   "metadata": {},
   "outputs": [],
   "source": [
    "# syntax:\n",
    "# if condition:\n",
    "#   statemenet"
   ]
  },
  {
   "cell_type": "code",
   "execution_count": 100,
   "id": "b7d53e89",
   "metadata": {},
   "outputs": [
    {
     "name": "stdout",
     "output_type": "stream",
     "text": [
      "Inside the if block\n"
     ]
    }
   ],
   "source": [
    "if True:\n",
    "  print('Inside the if block')"
   ]
  },
  {
   "cell_type": "code",
   "execution_count": 101,
   "id": "23961f76",
   "metadata": {},
   "outputs": [],
   "source": [
    "if False:\n",
    "  print('Inside the if block')"
   ]
  },
  {
   "cell_type": "code",
   "execution_count": 108,
   "id": "fc566f2f",
   "metadata": {},
   "outputs": [
    {
     "name": "stdout",
     "output_type": "stream",
     "text": [
      "First Class\n"
     ]
    }
   ],
   "source": [
    "mark = 80\n",
    "\n",
    "if mark > 70:\n",
    "  print('First Class')\n",
    "else:\n",
    "    print('second class')"
   ]
  },
  {
   "cell_type": "code",
   "execution_count": 109,
   "id": "e99a0258",
   "metadata": {},
   "outputs": [
    {
     "name": "stdout",
     "output_type": "stream",
     "text": [
      "First Class\n"
     ]
    }
   ],
   "source": [
    "if 'Deepika':\n",
    "  print('First Class')"
   ]
  },
  {
   "cell_type": "code",
   "execution_count": 110,
   "id": "1e953248",
   "metadata": {},
   "outputs": [
    {
     "data": {
      "text/plain": [
       "''"
      ]
     },
     "execution_count": 110,
     "metadata": {},
     "output_type": "execute_result"
    }
   ],
   "source": [
    "'Deepika' * 0"
   ]
  },
  {
   "cell_type": "code",
   "execution_count": 112,
   "id": "8d40d55c",
   "metadata": {},
   "outputs": [
    {
     "name": "stdout",
     "output_type": "stream",
     "text": [
      "Buy Carrot\n"
     ]
    }
   ],
   "source": [
    "avaliable_market = 'Carrot'\n",
    "need_me = 'Carrot'\n",
    "\n",
    "if need_me == avaliable_market:\n",
    "  print('Buy Carrot')\n",
    "else:\n",
    "  print('Buy Beetroot')"
   ]
  },
  {
   "cell_type": "code",
   "execution_count": 113,
   "id": "2c3aa767",
   "metadata": {},
   "outputs": [
    {
     "name": "stdout",
     "output_type": "stream",
     "text": [
      "Buy Beetroot\n"
     ]
    }
   ],
   "source": [
    "avaliable_market = 'Beetroot'\n",
    "need_me = 'Carrot'\n",
    "\n",
    "if need_me == avaliable_market:\n",
    "  print('Buy Carrot')\n",
    "else:\n",
    "  print('Buy Beetroot')"
   ]
  },
  {
   "cell_type": "code",
   "execution_count": 114,
   "id": "461ece73",
   "metadata": {},
   "outputs": [
    {
     "name": "stdout",
     "output_type": "stream",
     "text": [
      "2\n"
     ]
    }
   ],
   "source": [
    "if 45 % 5 * 6:\n",
    "  print(1)\n",
    "else:\n",
    "  print(2)"
   ]
  },
  {
   "cell_type": "code",
   "execution_count": 115,
   "id": "68ca60be",
   "metadata": {},
   "outputs": [
    {
     "name": "stdout",
     "output_type": "stream",
     "text": [
      "1\n"
     ]
    }
   ],
   "source": [
    "if ['']:\n",
    "  print(1)\n",
    "else:\n",
    "  print(2)"
   ]
  },
  {
   "cell_type": "code",
   "execution_count": 120,
   "id": "4ca81dc9",
   "metadata": {},
   "outputs": [
    {
     "name": "stdout",
     "output_type": "stream",
     "text": [
      "4\n"
     ]
    }
   ],
   "source": [
    "avaliable_market = 'butter'\n",
    "\n",
    "if 'Rava' == avaliable_market:\n",
    "  print(1)\n",
    "elif 'batter' == avaliable_market:\n",
    "  print(2)\n",
    "elif 'noodles' == avaliable_market:\n",
    "  print(3)\n",
    "else:\n",
    "  print(4)\n"
   ]
  }
 ],
 "metadata": {
  "kernelspec": {
   "display_name": "Python 3 (ipykernel)",
   "language": "python",
   "name": "python3"
  },
  "language_info": {
   "codemirror_mode": {
    "name": "ipython",
    "version": 3
   },
   "file_extension": ".py",
   "mimetype": "text/x-python",
   "name": "python",
   "nbconvert_exporter": "python",
   "pygments_lexer": "ipython3",
   "version": "3.10.9"
  }
 },
 "nbformat": 4,
 "nbformat_minor": 5
}
