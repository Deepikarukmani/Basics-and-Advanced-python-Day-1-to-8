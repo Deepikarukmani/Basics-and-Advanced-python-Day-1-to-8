{
 "cells": [
  {
   "cell_type": "raw",
   "id": "9bf7c812",
   "metadata": {},
   "source": [
    "# class\n",
    "# file handling\n",
    "# pickling\n",
    "# json\n",
    "# regx\n",
    "# pip\n",
    "# map & filter"
   ]
  },
  {
   "cell_type": "raw",
   "id": "24772e21",
   "metadata": {},
   "source": [
    "# CLASS"
   ]
  },
  {
   "cell_type": "code",
   "execution_count": 1,
   "id": "eea8b1ce",
   "metadata": {},
   "outputs": [],
   "source": [
    "class Engine:\n",
    "\n",
    "  def piston(self):\n",
    "    print('piston')\n",
    "\n",
    "  def cylinder(self):\n",
    "    print('cylinder')\n",
    "\n",
    "  def flywheel(self):\n",
    "    print('flywheel')\n",
    "\n",
    "  def crankshaft(self):\n",
    "    print('crankshaft')\n",
    "\n",
    "  def ecu(self):\n",
    "    print('ECU')\n",
    "\n",
    "class car:\n",
    "  def piston(self):\n",
    "    print('car piston')\n",
    "\n"
   ]
  },
  {
   "cell_type": "code",
   "execution_count": 2,
   "id": "53e624a6",
   "metadata": {},
   "outputs": [
    {
     "name": "stdout",
     "output_type": "stream",
     "text": [
      "piston\n"
     ]
    }
   ],
   "source": [
    "e = Engine()\n",
    "e.piston()"
   ]
  },
  {
   "cell_type": "code",
   "execution_count": 3,
   "id": "12ae3d7f",
   "metadata": {},
   "outputs": [
    {
     "name": "stdout",
     "output_type": "stream",
     "text": [
      "car piston\n"
     ]
    }
   ],
   "source": [
    "c = car()\n",
    "c.piston()"
   ]
  },
  {
   "cell_type": "code",
   "execution_count": 5,
   "id": "28d70c87",
   "metadata": {},
   "outputs": [
    {
     "data": {
      "text/plain": [
       "['__class__',\n",
       " '__delattr__',\n",
       " '__dict__',\n",
       " '__dir__',\n",
       " '__doc__',\n",
       " '__eq__',\n",
       " '__format__',\n",
       " '__ge__',\n",
       " '__getattribute__',\n",
       " '__gt__',\n",
       " '__hash__',\n",
       " '__init__',\n",
       " '__init_subclass__',\n",
       " '__le__',\n",
       " '__lt__',\n",
       " '__module__',\n",
       " '__ne__',\n",
       " '__new__',\n",
       " '__reduce__',\n",
       " '__reduce_ex__',\n",
       " '__repr__',\n",
       " '__setattr__',\n",
       " '__sizeof__',\n",
       " '__str__',\n",
       " '__subclasshook__',\n",
       " '__weakref__',\n",
       " 'crankshaft',\n",
       " 'cylinder',\n",
       " 'ecu',\n",
       " 'flywheel',\n",
       " 'piston']"
      ]
     },
     "execution_count": 5,
     "metadata": {},
     "output_type": "execute_result"
    }
   ],
   "source": [
    "dir(Engine)"
   ]
  },
  {
   "cell_type": "code",
   "execution_count": 6,
   "id": "c9dd64f1",
   "metadata": {},
   "outputs": [],
   "source": [
    "testcase1 = Engine()\n",
    "testcase2 = Engine()"
   ]
  },
  {
   "cell_type": "code",
   "execution_count": 7,
   "id": "589575a8",
   "metadata": {},
   "outputs": [
    {
     "name": "stdout",
     "output_type": "stream",
     "text": [
      "piston\n"
     ]
    }
   ],
   "source": [
    "testcase1.piston()"
   ]
  },
  {
   "cell_type": "code",
   "execution_count": 8,
   "id": "3efc258f",
   "metadata": {},
   "outputs": [],
   "source": [
    "def piston():\n",
    "  return 'Magesh'\n",
    "\n",
    "class Engine:\n",
    "\n",
    "  def ecu(self,bat):\n",
    "    print('ECU')\n",
    "\n",
    "  def __init__(self,oil,fuel,rose,lotus,lily): # constructor to get input\n",
    "    self.oil = oil\n",
    "    self.fuel = fuel\n",
    "    self.rose = rose\n",
    "    self.lotus = lotus\n",
    "    self.lily = lily\n",
    "\n",
    "  def piston(self):\n",
    "    # print('piston')\n",
    "    return self.oil * self.fuel + 17 * 0.4\n",
    "    print('not be executed piston')\n",
    "\n",
    "  def cylinder(self):\n",
    "    # print('cylinder')\n",
    "    return self.oil + self.fuel + (17//2) * 2.4\n",
    "\n",
    "  def flywheel(self):\n",
    "    f = self.piston()\n",
    "    v = self.piston() + self.cylinder() + self.crankshaft(f)\n",
    "    return v\n",
    "\n",
    "  def crankshaft(self,coeff):\n",
    "    v = self.piston()\n",
    "    return v * coeff\n",
    "\n",
    "  def flowers(self):\n",
    "    print(self.rose,self.lotus,self.lily)"
   ]
  },
  {
   "cell_type": "code",
   "execution_count": 9,
   "id": "41034a04",
   "metadata": {},
   "outputs": [
    {
     "name": "stdout",
     "output_type": "stream",
     "text": [
      "15.8\n",
      "25.7\n",
      "291.14\n",
      "12.64\n",
      "rose lotus lily\n"
     ]
    }
   ],
   "source": [
    "test1 = Engine(2,4.5,'rose','lotus','lily')\n",
    "\n",
    "print(test1.piston())\n",
    "print(test1.cylinder())\n",
    "print(test1.flywheel())\n",
    "print(test1.crankshaft(0.8))\n",
    "test1.flowers()"
   ]
  },
  {
   "cell_type": "code",
   "execution_count": 10,
   "id": "9523d92f",
   "metadata": {},
   "outputs": [],
   "source": [
    "\n",
    "def piston(oil,fuel):\n",
    "    # print('piston')\n",
    "    return oil * fuel + 17 * 0.4\n",
    "\n",
    "def cylinder(oil,fuel):\n",
    "  # print('cylinder')\n",
    "  return oil + fuel + (17//2) * 2.4\n",
    "\n",
    "def flywheel(a,b):\n",
    "  v = piston(a,b) + cylinder(a,b)\n",
    "  return v\n",
    "\n",
    "def crankshaft(coeff):\n",
    "  v = piston()\n",
    "  return v * coeff\n",
    "\n",
    "def ecu():\n",
    "  print('ECU')"
   ]
  },
  {
   "cell_type": "code",
   "execution_count": null,
   "id": "a4095f0a",
   "metadata": {},
   "outputs": [],
   "source": [
    "# test 1\n",
    "oil = 2\n",
    "fuel = 4.5\n",
    "\n",
    "oil1 = 0.5\n",
    "fuel1 = 1.5\n",
    "\n",
    "print(piston(oil,fuel))\n",
    "print(flywheel(oil1,fuel1))\n",
    "print(cylinder(oil1,fuel1))\n",
    "\n",
    "print(cylinder(oil,fuel))\n",
    "print(piston(oil1,fuel1))\n",
    "\n",
    "print(flywheel(oil,fuel))"
   ]
  },
  {
   "cell_type": "raw",
   "id": "d965d794",
   "metadata": {},
   "source": [
    "\n",
    "# pickling\n",
    "# json\n",
    "# map & filter\n",
    "\n",
    "# pip\n",
    "# regx"
   ]
  },
  {
   "cell_type": "code",
   "execution_count": 14,
   "id": "7a10e1c4",
   "metadata": {},
   "outputs": [
    {
     "ename": "SyntaxError",
     "evalue": "unterminated string literal (detected at line 1) (256878254.py, line 1)",
     "output_type": "error",
     "traceback": [
      "\u001b[1;36m  Cell \u001b[1;32mIn[14], line 1\u001b[1;36m\u001b[0m\n\u001b[1;33m    open('\\http://localhost:8888/notebooks/Deepika%20python/Python%20Basics%20Day-5.ipynb\\)\u001b[0m\n\u001b[1;37m         ^\u001b[0m\n\u001b[1;31mSyntaxError\u001b[0m\u001b[1;31m:\u001b[0m unterminated string literal (detected at line 1)\n"
     ]
    }
   ],
   "source": [
    "open('http://localhost:8888/notebooks/Deepika%20python/Python%20Basics%20Day-5.ipynb\\)"
   ]
  },
  {
   "cell_type": "raw",
   "id": "cc0e34f4",
   "metadata": {},
   "source": [
    "PICKLE:"
   ]
  },
  {
   "cell_type": "code",
   "execution_count": 15,
   "id": "3cac860f",
   "metadata": {},
   "outputs": [],
   "source": [
    "import pickle"
   ]
  },
  {
   "cell_type": "code",
   "execution_count": 16,
   "id": "62bb6e73",
   "metadata": {},
   "outputs": [
    {
     "name": "stdout",
     "output_type": "stream",
     "text": [
      "b'\\x80\\x04\\x95\\x14\\x00\\x00\\x00\\x00\\x00\\x00\\x00\\x8c\\x10i live  in India\\x94.'\n"
     ]
    }
   ],
   "source": [
    "a = 'i live  in India'\n",
    "c = pickle.dumps(a)  # can convert any data type into pickle\n",
    "print(c)"
   ]
  },
  {
   "cell_type": "code",
   "execution_count": 17,
   "id": "47d8b9d7",
   "metadata": {},
   "outputs": [
    {
     "name": "stdout",
     "output_type": "stream",
     "text": [
      "b'\\x80\\x04\\x88.'\n"
     ]
    }
   ],
   "source": [
    "a = True\n",
    "c = pickle.dumps(a)\n",
    "print(c)"
   ]
  },
  {
   "cell_type": "code",
   "execution_count": 20,
   "id": "02a91aa5",
   "metadata": {},
   "outputs": [
    {
     "name": "stdout",
     "output_type": "stream",
     "text": [
      "b'\\x80\\x04\\x89.'\n"
     ]
    }
   ],
   "source": [
    "a = False\n",
    "c = pickle.dumps(a)\n",
    "print(c)"
   ]
  },
  {
   "cell_type": "code",
   "execution_count": 18,
   "id": "a6b16e76",
   "metadata": {},
   "outputs": [
    {
     "name": "stdout",
     "output_type": "stream",
     "text": [
      "<class 'bytes'>\n",
      "b'\\x80\\x04\\x95\\x04\\x00\\x00\\x00\\x00\\x00\\x00\\x00M\\xaa^.'\n"
     ]
    }
   ],
   "source": [
    "b = 24234\n",
    "c = pickle.dumps(b)\n",
    "print(type(c))\n",
    "print(c)"
   ]
  },
  {
   "cell_type": "code",
   "execution_count": 19,
   "id": "177aa06f",
   "metadata": {},
   "outputs": [
    {
     "name": "stdout",
     "output_type": "stream",
     "text": [
      "b'\\x80\\x04\\x95;\\x00\\x00\\x00\\x00\\x00\\x00\\x00}\\x94(\\x8c\\x04name\\x94]\\x94(\\x8c\\x06Magesh\\x94\\x8c\\x03Ram\\x94\\x8c\\x06Yellow\\x94e\\x8c\\x06flower\\x94]\\x94\\x8c\\x04rose\\x94au.'\n",
      "{'name': ['Magesh', 'Ram', 'Yellow'], 'flower': ['rose']}\n"
     ]
    }
   ],
   "source": [
    "a = {\"name\":['Magesh','Ram','Yellow'],\"flower\":['rose']}\n",
    "c = pickle.dumps(a) # pickling\n",
    "print(c) # pickled data\n",
    "b = pickle.loads(c) # unpickling\n",
    "print(b)"
   ]
  },
  {
   "cell_type": "code",
   "execution_count": 22,
   "id": "1b064041",
   "metadata": {},
   "outputs": [
    {
     "name": "stdout",
     "output_type": "stream",
     "text": [
      "b'\\x80\\x04\\x95%\\x00\\x00\\x00\\x00\\x00\\x00\\x00}\\x94(\\x8c\\x04name\\x94\\x8c\\x06Yellow\\x94\\x8c\\x06flower\\x94\\x8c\\x04rose\\x94u.'\n",
      "{'name': 'Yellow', 'flower': 'rose'}\n"
     ]
    }
   ],
   "source": [
    "a = {\"name\":'Yellow',\"flower\":'rose'}\n",
    "c = pickle.dumps(a) # pickling\n",
    "print(c)\n",
    "b = pickle.loads(c) # unpickling\n",
    "print(b)"
   ]
  },
  {
   "cell_type": "raw",
   "id": "de61b8cb",
   "metadata": {},
   "source": [
    "### JSON:"
   ]
  },
  {
   "cell_type": "code",
   "execution_count": 23,
   "id": "ef078999",
   "metadata": {},
   "outputs": [],
   "source": [
    "import json"
   ]
  },
  {
   "cell_type": "code",
   "execution_count": 30,
   "id": "aa93e8d3",
   "metadata": {},
   "outputs": [
    {
     "name": "stdout",
     "output_type": "stream",
     "text": [
      "i live in India\n",
      "\"i live in India\"\n",
      "b'\\x80\\x04\\x95\\x13\\x00\\x00\\x00\\x00\\x00\\x00\\x00\\x8c\\x0fi live in India\\x94.'\n",
      "i live in India\n"
     ]
    }
   ],
   "source": [
    "a = \"i live in India\"\n",
    "print(a)\n",
    "\n",
    "b = json.dumps(a)\n",
    "print(b)\n",
    "\n",
    "\n",
    "b = pickle.dumps(a)\n",
    "print(b)\n",
    "\n",
    "\n",
    "c = pickle.loads(b)\n",
    "print(c)"
   ]
  },
  {
   "cell_type": "code",
   "execution_count": 32,
   "id": "7f1c655e",
   "metadata": {},
   "outputs": [
    {
     "name": "stdout",
     "output_type": "stream",
     "text": [
      "1234\n",
      "1234\n",
      "1234\n",
      "<class 'str'>\n"
     ]
    }
   ],
   "source": [
    "a = 1234\n",
    "print(a)\n",
    "\n",
    "b = json.dumps(a)\n",
    "print(b)\n",
    "\n",
    "c = json.loads(b)\n",
    "print(c)\n",
    "\n",
    "print(type(b))"
   ]
  },
  {
   "cell_type": "code",
   "execution_count": 33,
   "id": "15b8b768",
   "metadata": {},
   "outputs": [
    {
     "name": "stdout",
     "output_type": "stream",
     "text": [
      "{'name': ['Magesh', 'Ram', 'Yellow'], 'flower': ['rose']}\n",
      "<class 'str'>\n",
      "<class 'dict'>\n",
      "{'name': ['Magesh', 'Ram', 'Yellow'], 'flower': ['rose']}\n"
     ]
    }
   ],
   "source": [
    "a = {\"name\":['Magesh','Ram',\"Yellow\"],\"flower\":['rose']}\n",
    "print(a)\n",
    "\n",
    "b = json.dumps(a)\n",
    "print(type(b)) # str bcz it is a json\n",
    "\n",
    "c = json.loads(b)\n",
    "print(type(c)) # dict\n",
    "print(c)"
   ]
  },
  {
   "cell_type": "raw",
   "id": "d440f969",
   "metadata": {},
   "source": [
    "### map:"
   ]
  },
  {
   "cell_type": "code",
   "execution_count": 34,
   "id": "cbb290ee",
   "metadata": {},
   "outputs": [
    {
     "name": "stdout",
     "output_type": "stream",
     "text": [
      "august\n"
     ]
    }
   ],
   "source": [
    "\n",
    "\n",
    "def thisisforaugustmonth():\n",
    "  print('august')\n",
    "\n",
    "aug = thisisforaugustmonth # assign\n",
    "aug()"
   ]
  },
  {
   "cell_type": "code",
   "execution_count": 35,
   "id": "e65b729c",
   "metadata": {},
   "outputs": [
    {
     "data": {
      "text/plain": [
       "[2, 4, 6, 8, 10]"
      ]
     },
     "execution_count": 35,
     "metadata": {},
     "output_type": "execute_result"
    }
   ],
   "source": [
    "a = [1,2,3,4,5]\n",
    "\n",
    "def multi(a):\n",
    "  return 2 * a\n",
    "\n",
    "list(map(multi , a)) # 2,4,6,8,10"
   ]
  },
  {
   "cell_type": "code",
   "execution_count": 36,
   "id": "32262ad3",
   "metadata": {},
   "outputs": [
    {
     "data": {
      "text/plain": [
       "(2, 4, 6, 8, 10)"
      ]
     },
     "execution_count": 36,
     "metadata": {},
     "output_type": "execute_result"
    }
   ],
   "source": [
    "a = [1,2,3,4,5]\n",
    "\n",
    "def multi(a):\n",
    "  return 2 * a\n",
    "\n",
    "tuple(map(multi , a)) # 2,4,6,8,10"
   ]
  },
  {
   "cell_type": "code",
   "execution_count": 37,
   "id": "f344dc4f",
   "metadata": {},
   "outputs": [
    {
     "data": {
      "text/plain": [
       "{2, 4, 6, 8, 10}"
      ]
     },
     "execution_count": 37,
     "metadata": {},
     "output_type": "execute_result"
    }
   ],
   "source": [
    "a = [1,2,3,4,5]\n",
    "\n",
    "def multi(a):\n",
    "  return 2 * a\n",
    "\n",
    "set(map(multi , a)) # 2,4,6,8,10"
   ]
  },
  {
   "cell_type": "code",
   "execution_count": 42,
   "id": "c3507c7c",
   "metadata": {},
   "outputs": [
    {
     "ename": "TypeError",
     "evalue": "cannot convert dictionary update sequence element #0 to a sequence",
     "output_type": "error",
     "traceback": [
      "\u001b[1;31m---------------------------------------------------------------------------\u001b[0m",
      "\u001b[1;31mTypeError\u001b[0m                                 Traceback (most recent call last)",
      "Cell \u001b[1;32mIn[42], line 6\u001b[0m\n\u001b[0;32m      3\u001b[0m \u001b[38;5;28;01mdef\u001b[39;00m \u001b[38;5;21mmulti\u001b[39m(a):\n\u001b[0;32m      4\u001b[0m   \u001b[38;5;28;01mreturn\u001b[39;00m \u001b[38;5;241m2\u001b[39m \u001b[38;5;241m*\u001b[39m a\n\u001b[1;32m----> 6\u001b[0m \u001b[38;5;28;43mdict\u001b[39;49m\u001b[43m(\u001b[49m\u001b[38;5;28;43mmap\u001b[39;49m\u001b[43m(\u001b[49m\u001b[43mmulti\u001b[49m\u001b[43m \u001b[49m\u001b[43m,\u001b[49m\u001b[43m \u001b[49m\u001b[43ma\u001b[49m\u001b[43m)\u001b[49m\u001b[43m)\u001b[49m\n",
      "\u001b[1;31mTypeError\u001b[0m: cannot convert dictionary update sequence element #0 to a sequence"
     ]
    }
   ],
   "source": [
    "a = [1,2,3,4,5]\n",
    "\n",
    "def multi(a):\n",
    "  return 2 * a\n",
    "\n",
    "dict(map(multi , a)) # 2,4,6,8,10"
   ]
  },
  {
   "cell_type": "code",
   "execution_count": 47,
   "id": "f6418d9c",
   "metadata": {},
   "outputs": [
    {
     "data": {
      "text/plain": [
       "(<function __main__.<lambda>(j)>, [1, 2, 3, 4, 5])"
      ]
     },
     "execution_count": 47,
     "metadata": {},
     "output_type": "execute_result"
    }
   ],
   "source": [
    "a = [1,2,3,4,5]\n",
    "\n",
    "( lambda j : 2*j, a)"
   ]
  },
  {
   "cell_type": "code",
   "execution_count": 48,
   "id": "8131b379",
   "metadata": {},
   "outputs": [
    {
     "data": {
      "text/plain": [
       "<map at 0x2671b0f3340>"
      ]
     },
     "execution_count": 48,
     "metadata": {},
     "output_type": "execute_result"
    }
   ],
   "source": [
    "a = [1,2,3,4,5]\n",
    "\n",
    "map( lambda j : 2*j, a)"
   ]
  },
  {
   "cell_type": "code",
   "execution_count": 45,
   "id": "c970b198",
   "metadata": {},
   "outputs": [
    {
     "data": {
      "text/plain": [
       "[2, 4, 6, 8, 10]"
      ]
     },
     "execution_count": 45,
     "metadata": {},
     "output_type": "execute_result"
    }
   ],
   "source": [
    "a = [1,2,3,4,5]\n",
    "\n",
    "list(map( lambda j : 2*j, a))"
   ]
  },
  {
   "cell_type": "code",
   "execution_count": null,
   "id": "f73a1c8b",
   "metadata": {},
   "outputs": [],
   "source": [
    "a = [1,2,3,4,5]\n",
    "\n",
    "tuple(map( lambda j : 2*j, a))"
   ]
  },
  {
   "cell_type": "code",
   "execution_count": 49,
   "id": "d8d71325",
   "metadata": {},
   "outputs": [
    {
     "data": {
      "text/plain": [
       "{2, 4, 6, 8, 10}"
      ]
     },
     "execution_count": 49,
     "metadata": {},
     "output_type": "execute_result"
    }
   ],
   "source": [
    "a = [1,2,3,4,5]\n",
    "\n",
    "set(map( lambda j : 2*j, a))"
   ]
  },
  {
   "cell_type": "code",
   "execution_count": 56,
   "id": "9fb45e74",
   "metadata": {},
   "outputs": [
    {
     "data": {
      "text/plain": [
       "['1', '2', '3', '4', '5']"
      ]
     },
     "execution_count": 56,
     "metadata": {},
     "output_type": "execute_result"
    }
   ],
   "source": [
    "a = [1,2,3,4,5]\n",
    "\n",
    "list(map( lambda j :str(j), a))"
   ]
  },
  {
   "cell_type": "code",
   "execution_count": 59,
   "id": "d3ef2800",
   "metadata": {},
   "outputs": [
    {
     "name": "stdout",
     "output_type": "stream",
     "text": [
      "[1, 2, 3, 4, 5]\n"
     ]
    }
   ],
   "source": [
    "a = [1,2,3,4,5]\n",
    "\n",
    "\"\".join(str(j) for j in a)\n",
    "print(a)"
   ]
  },
  {
   "cell_type": "code",
   "execution_count": 61,
   "id": "52287535",
   "metadata": {},
   "outputs": [
    {
     "ename": "TypeError",
     "evalue": "sequence item 0: expected str instance, int found",
     "output_type": "error",
     "traceback": [
      "\u001b[1;31m---------------------------------------------------------------------------\u001b[0m",
      "\u001b[1;31mTypeError\u001b[0m                                 Traceback (most recent call last)",
      "Cell \u001b[1;32mIn[61], line 3\u001b[0m\n\u001b[0;32m      1\u001b[0m a \u001b[38;5;241m=\u001b[39m [\u001b[38;5;241m1\u001b[39m,\u001b[38;5;241m2\u001b[39m,\u001b[38;5;241m3\u001b[39m,\u001b[38;5;241m4\u001b[39m,\u001b[38;5;241m5\u001b[39m]\n\u001b[1;32m----> 3\u001b[0m \u001b[38;5;124;43m\"\u001b[39;49m\u001b[38;5;124;43m\"\u001b[39;49m\u001b[38;5;241;43m.\u001b[39;49m\u001b[43mjoin\u001b[49m\u001b[43m(\u001b[49m\u001b[43ma\u001b[49m\u001b[43m)\u001b[49m\n\u001b[0;32m      4\u001b[0m \u001b[38;5;28mprint\u001b[39m(a)\n",
      "\u001b[1;31mTypeError\u001b[0m: sequence item 0: expected str instance, int found"
     ]
    }
   ],
   "source": [
    "a = [1,2,3,4,5]\n",
    "\n",
    "\"\".join(a)\n",
    "print(a)"
   ]
  },
  {
   "cell_type": "raw",
   "id": "a1b4813e",
   "metadata": {},
   "source": [
    "# FILTER:"
   ]
  },
  {
   "cell_type": "code",
   "execution_count": 62,
   "id": "2006c207",
   "metadata": {},
   "outputs": [
    {
     "data": {
      "text/plain": [
       "[2, 4, 6]"
      ]
     },
     "execution_count": 62,
     "metadata": {},
     "output_type": "execute_result"
    }
   ],
   "source": [
    "a = [1,2,3,4,5,6,7]\n",
    "\n",
    "list(filter( lambda i : i%2==0 , a))"
   ]
  },
  {
   "cell_type": "code",
   "execution_count": 63,
   "id": "d4910fab",
   "metadata": {},
   "outputs": [
    {
     "data": {
      "text/plain": [
       "[False, True, False, True, False, True, False]"
      ]
     },
     "execution_count": 63,
     "metadata": {},
     "output_type": "execute_result"
    }
   ],
   "source": [
    "a = [1,2,3,4,5,6,7]\n",
    "\n",
    "list(map( lambda i : i%2==0 , a))"
   ]
  },
  {
   "cell_type": "code",
   "execution_count": 64,
   "id": "149be704",
   "metadata": {},
   "outputs": [
    {
     "data": {
      "text/plain": [
       "[2000, 2020]"
      ]
     },
     "execution_count": 64,
     "metadata": {},
     "output_type": "execute_result"
    }
   ],
   "source": [
    "a = [2200,1100,1300,2000,2026,2020]\n",
    "\n",
    "list(filter( lambda i : (i%4==0 and i%100!=0) or (i%100==0 and i%400==0) , a))"
   ]
  },
  {
   "cell_type": "code",
   "execution_count": 65,
   "id": "5d24c80d",
   "metadata": {},
   "outputs": [
    {
     "data": {
      "text/plain": [
       "[False, False, False, True, False, True]"
      ]
     },
     "execution_count": 65,
     "metadata": {},
     "output_type": "execute_result"
    }
   ],
   "source": [
    "a = [2200,1100,1300,2000,2026,2020]\n",
    "\n",
    "list(map( lambda i : (i%4==0 and i%100!=0) or (i%100==0 and i%400==0) , a))"
   ]
  },
  {
   "cell_type": "code",
   "execution_count": 66,
   "id": "3290d077",
   "metadata": {},
   "outputs": [],
   "source": [
    "import re"
   ]
  },
  {
   "cell_type": "code",
   "execution_count": 67,
   "id": "bd2364c4",
   "metadata": {},
   "outputs": [
    {
     "data": {
      "text/plain": [
       "<function re.split(pattern, string, maxsplit=0, flags=0)>"
      ]
     },
     "execution_count": 67,
     "metadata": {},
     "output_type": "execute_result"
    }
   ],
   "source": [
    "re.findall\n",
    "re.match\n",
    "re.search\n",
    "re.split"
   ]
  }
 ],
 "metadata": {
  "kernelspec": {
   "display_name": "Python 3 (ipykernel)",
   "language": "python",
   "name": "python3"
  },
  "language_info": {
   "codemirror_mode": {
    "name": "ipython",
    "version": 3
   },
   "file_extension": ".py",
   "mimetype": "text/x-python",
   "name": "python",
   "nbconvert_exporter": "python",
   "pygments_lexer": "ipython3",
   "version": "3.10.9"
  }
 },
 "nbformat": 4,
 "nbformat_minor": 5
}
