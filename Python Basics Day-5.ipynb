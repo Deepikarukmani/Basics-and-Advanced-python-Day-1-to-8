{
 "cells": [
  {
   "cell_type": "code",
   "execution_count": 8,
   "id": "1bd08196",
   "metadata": {},
   "outputs": [
    {
     "data": {
      "text/plain": [
       "[2, 4, 6, 8, 10, 12]"
      ]
     },
     "execution_count": 8,
     "metadata": {},
     "output_type": "execute_result"
    }
   ],
   "source": [
    "a = [1,2,3,4,5,6]\n",
    "b = []\n",
    "m=0\n",
    "while m<len(a):\n",
    "  b.append(a[m]*2)\n",
    "  m=m+1\n",
    "\n",
    "b"
   ]
  },
  {
   "cell_type": "code",
   "execution_count": 9,
   "id": "a6c17b73",
   "metadata": {},
   "outputs": [
    {
     "data": {
      "text/plain": [
       "[2, 4, 6, 8, 10, 12]"
      ]
     },
     "execution_count": 9,
     "metadata": {},
     "output_type": "execute_result"
    }
   ],
   "source": [
    "a = [1,2,3,4,5,6]\n",
    "b = []\n",
    "for i in a:\n",
    "  b.append(2*i)\n",
    "b"
   ]
  },
  {
   "cell_type": "code",
   "execution_count": 10,
   "id": "90df45a2",
   "metadata": {},
   "outputs": [
    {
     "name": "stdout",
     "output_type": "stream",
     "text": [
      "2\n",
      "4\n",
      "6\n",
      "8\n",
      "10\n",
      "12\n"
     ]
    }
   ],
   "source": [
    "a = [1,2,3,4,5,6]\n",
    "for i in a:\n",
    "    print(2*i)"
   ]
  },
  {
   "cell_type": "raw",
   "id": "442a7622",
   "metadata": {},
   "source": [
    "# Math:\n",
    "# 1. module\n",
    "# 2. package\n",
    "# 3. library"
   ]
  },
  {
   "cell_type": "code",
   "execution_count": 16,
   "id": "51b3156e",
   "metadata": {},
   "outputs": [],
   "source": [
    "import math"
   ]
  },
  {
   "cell_type": "code",
   "execution_count": 18,
   "id": "69e14b31",
   "metadata": {},
   "outputs": [
    {
     "data": {
      "text/plain": [
       "['__doc__',\n",
       " '__loader__',\n",
       " '__name__',\n",
       " '__package__',\n",
       " '__spec__',\n",
       " 'acos',\n",
       " 'acosh',\n",
       " 'asin',\n",
       " 'asinh',\n",
       " 'atan',\n",
       " 'atan2',\n",
       " 'atanh',\n",
       " 'ceil',\n",
       " 'comb',\n",
       " 'copysign',\n",
       " 'cos',\n",
       " 'cosh',\n",
       " 'degrees',\n",
       " 'dist',\n",
       " 'e',\n",
       " 'erf',\n",
       " 'erfc',\n",
       " 'exp',\n",
       " 'expm1',\n",
       " 'fabs',\n",
       " 'factorial',\n",
       " 'floor',\n",
       " 'fmod',\n",
       " 'frexp',\n",
       " 'fsum',\n",
       " 'gamma',\n",
       " 'gcd',\n",
       " 'hypot',\n",
       " 'inf',\n",
       " 'isclose',\n",
       " 'isfinite',\n",
       " 'isinf',\n",
       " 'isnan',\n",
       " 'isqrt',\n",
       " 'lcm',\n",
       " 'ldexp',\n",
       " 'lgamma',\n",
       " 'log',\n",
       " 'log10',\n",
       " 'log1p',\n",
       " 'log2',\n",
       " 'modf',\n",
       " 'nan',\n",
       " 'nextafter',\n",
       " 'perm',\n",
       " 'pi',\n",
       " 'pow',\n",
       " 'prod',\n",
       " 'radians',\n",
       " 'remainder',\n",
       " 'sin',\n",
       " 'sinh',\n",
       " 'sqrt',\n",
       " 'tan',\n",
       " 'tanh',\n",
       " 'tau',\n",
       " 'trunc',\n",
       " 'ulp']"
      ]
     },
     "execution_count": 18,
     "metadata": {},
     "output_type": "execute_result"
    }
   ],
   "source": [
    "dir(math)"
   ]
  },
  {
   "cell_type": "code",
   "execution_count": 19,
   "id": "e59dbec5",
   "metadata": {},
   "outputs": [
    {
     "data": {
      "text/plain": [
       "2.23606797749979"
      ]
     },
     "execution_count": 19,
     "metadata": {},
     "output_type": "execute_result"
    }
   ],
   "source": [
    "a = 5\n",
    "math.sqrt(a)"
   ]
  },
  {
   "cell_type": "code",
   "execution_count": 22,
   "id": "f549048d",
   "metadata": {},
   "outputs": [
    {
     "data": {
      "text/plain": [
       "3.0"
      ]
     },
     "execution_count": 22,
     "metadata": {},
     "output_type": "execute_result"
    }
   ],
   "source": [
    "a = 9\n",
    "math.sqrt(a)"
   ]
  },
  {
   "cell_type": "code",
   "execution_count": 21,
   "id": "7d24a0d0",
   "metadata": {},
   "outputs": [
    {
     "name": "stdout",
     "output_type": "stream",
     "text": [
      "324\n",
      "324\n"
     ]
    }
   ],
   "source": [
    "print(math.floor(324.234234))  # strict decrement\n",
    "print(math.floor(324.9999999999999))"
   ]
  },
  {
   "cell_type": "code",
   "execution_count": 23,
   "id": "29d920ff",
   "metadata": {},
   "outputs": [
    {
     "name": "stdout",
     "output_type": "stream",
     "text": [
      "325\n",
      "325\n"
     ]
    }
   ],
   "source": [
    "print(math.ceil(324.234234))  # strict increment\n",
    "print(math.ceil(324.0000000001))"
   ]
  },
  {
   "cell_type": "code",
   "execution_count": 24,
   "id": "e093c4d4",
   "metadata": {},
   "outputs": [
    {
     "name": "stdout",
     "output_type": "stream",
     "text": [
      "324.23\n",
      "324.2\n",
      "324\n",
      "325\n"
     ]
    }
   ],
   "source": [
    "print(round(324.234234,2))\n",
    "print(round(324.234234,1))\n",
    "print(round(324.2343)) # < .5 # strict decrement\n",
    "print(round(324.5343)) # >= .5 # strict increment"
   ]
  },
  {
   "cell_type": "raw",
   "id": "d0887269",
   "metadata": {},
   "source": [
    "function:"
   ]
  },
  {
   "cell_type": "code",
   "execution_count": 44,
   "id": "85fff26d",
   "metadata": {},
   "outputs": [
    {
     "name": "stdout",
     "output_type": "stream",
     "text": [
      "i\n",
      " \n",
      "l\n",
      "i\n",
      "v\n",
      "e\n",
      " \n",
      "i\n",
      "n\n",
      " \n",
      "I\n",
      "n\n",
      "d\n",
      "i\n",
      "a\n",
      "15\n"
     ]
    }
   ],
   "source": [
    "a = 'i live in India'\n",
    "\n",
    "count=0\n",
    "\n",
    "for i in a:\n",
    "    count=count+1\n",
    "    print(i)\n",
    "print(count)"
   ]
  },
  {
   "cell_type": "code",
   "execution_count": 46,
   "id": "65b5b5a8",
   "metadata": {},
   "outputs": [
    {
     "name": "stdout",
     "output_type": "stream",
     "text": [
      "Welcome deepi\n",
      "Welcome Earth\n",
      "Welcome Moon\n",
      "Welcome Moon\n",
      "Welcome Python\n"
     ]
    }
   ],
   "source": [
    "     def hello(one):         # positional argument\n",
    "  print('Welcome',one)\n",
    "\n",
    "one = 'Earth'\n",
    "two = 'Moon'\n",
    "\n",
    "hello('deepi') z\n",
    "hello(one)  # 'Welcome Earth'\n",
    "hello(two)  # 'Welcome Moon'\n",
    "hello(two)  # 'Welcome Moon'\n",
    "hello(\"Python\") # 'Welcome Python'"
   ]
  },
  {
   "cell_type": "code",
   "execution_count": 50,
   "id": "f7bf28ce",
   "metadata": {},
   "outputs": [],
   "source": [
    "def customlen(a):\n",
    "  c = 0\n",
    "  for i in a:\n",
    "    c =  c +1\n",
    "  print(c)"
   ]
  },
  {
   "cell_type": "code",
   "execution_count": 51,
   "id": "55456179",
   "metadata": {},
   "outputs": [
    {
     "name": "stdout",
     "output_type": "stream",
     "text": [
      "14\n",
      "7\n"
     ]
    },
    {
     "ename": "TypeError",
     "evalue": "'float' object is not iterable",
     "output_type": "error",
     "traceback": [
      "\u001b[1;31m---------------------------------------------------------------------------\u001b[0m",
      "\u001b[1;31mTypeError\u001b[0m                                 Traceback (most recent call last)",
      "Cell \u001b[1;32mIn[51], line 4\u001b[0m\n\u001b[0;32m      2\u001b[0m customlen([\u001b[38;5;241m1\u001b[39m,\u001b[38;5;241m2\u001b[39m,\u001b[38;5;241m3\u001b[39m,\u001b[38;5;241m4\u001b[39m,\u001b[38;5;241m5\u001b[39m,\u001b[38;5;124m'\u001b[39m\u001b[38;5;124mone\u001b[39m\u001b[38;5;124m'\u001b[39m,\u001b[38;5;124m'\u001b[39m\u001b[38;5;124mtwo\u001b[39m\u001b[38;5;124m'\u001b[39m])\n\u001b[0;32m      3\u001b[0m \u001b[38;5;66;03m# customlen()\u001b[39;00m\n\u001b[1;32m----> 4\u001b[0m \u001b[43mcustomlen\u001b[49m\u001b[43m(\u001b[49m\u001b[38;5;241;43m12321312.23423\u001b[39;49m\u001b[43m)\u001b[49m\n",
      "Cell \u001b[1;32mIn[50], line 3\u001b[0m, in \u001b[0;36mcustomlen\u001b[1;34m(a)\u001b[0m\n\u001b[0;32m      1\u001b[0m \u001b[38;5;28;01mdef\u001b[39;00m \u001b[38;5;21mcustomlen\u001b[39m(a):\n\u001b[0;32m      2\u001b[0m   c \u001b[38;5;241m=\u001b[39m \u001b[38;5;241m0\u001b[39m\n\u001b[1;32m----> 3\u001b[0m   \u001b[38;5;28;01mfor\u001b[39;00m i \u001b[38;5;129;01min\u001b[39;00m a:\n\u001b[0;32m      4\u001b[0m     c \u001b[38;5;241m=\u001b[39m  c \u001b[38;5;241m+\u001b[39m\u001b[38;5;241m1\u001b[39m\n\u001b[0;32m      5\u001b[0m   \u001b[38;5;28mprint\u001b[39m(c)\n",
      "\u001b[1;31mTypeError\u001b[0m: 'float' object is not iterable"
     ]
    }
   ],
   "source": [
    "\n",
    "# customlen()\n",
    "customlen(12321312.23423)"
   ]
  },
  {
   "cell_type": "code",
   "execution_count": 52,
   "id": "00545801",
   "metadata": {},
   "outputs": [
    {
     "name": "stdout",
     "output_type": "stream",
     "text": [
      "14\n",
      "7\n"
     ]
    }
   ],
   "source": [
    "customlen('Welcome Python')\n",
    "customlen([1,2,3,4,5,'one','two'])"
   ]
  },
  {
   "cell_type": "code",
   "execution_count": 53,
   "id": "0ec93e23",
   "metadata": {},
   "outputs": [
    {
     "name": "stdout",
     "output_type": "stream",
     "text": [
      "14\n",
      "7\n"
     ]
    }
   ],
   "source": [
    "print(len('Welcome Python'))\n",
    "print(len([1,2,3,4,5,'one','two']))\n",
    "# len()\n",
    "# len(12321312.23423)\n"
   ]
  },
  {
   "cell_type": "code",
   "execution_count": 63,
   "id": "58c2ddc7",
   "metadata": {},
   "outputs": [
    {
     "name": "stdout",
     "output_type": "stream",
     "text": [
      "15\n"
     ]
    }
   ],
   "source": [
    "sum([1,2,3,4,5])"
   ]
  },
  {
   "cell_type": "code",
   "execution_count": 73,
   "id": "407d71da",
   "metadata": {},
   "outputs": [
    {
     "name": "stdout",
     "output_type": "stream",
     "text": [
      "15\n"
     ]
    }
   ],
   "source": [
    "a= [1,2,3,4,5]\n",
    "sum = 0\n",
    "for i in a:\n",
    "    sum =  sum+i\n",
    "print(sum)"
   ]
  },
  {
   "cell_type": "code",
   "execution_count": 81,
   "id": "57d50d17",
   "metadata": {},
   "outputs": [
    {
     "name": "stdout",
     "output_type": "stream",
     "text": [
      "15\n",
      "154.87645\n"
     ]
    }
   ],
   "source": [
    "a = [1,2,3,4,5]\n",
    "def addition(value):\n",
    "  c = 0\n",
    "  for i in value:\n",
    "    c =  c + i\n",
    "  print(c)\n",
    "addition(a)\n",
    "addition([123,8,5,7,8.87645,3])"
   ]
  },
  {
   "cell_type": "code",
   "execution_count": 86,
   "id": "9cb7f0f2",
   "metadata": {},
   "outputs": [
    {
     "name": "stdout",
     "output_type": "stream",
     "text": [
      "it is for a 10\n",
      "it is for b 20\n",
      "it is for c 30\n",
      "***************\n",
      "it is for a 30\n",
      "it is for b 10\n",
      "it is for c 20\n",
      "***************\n",
      "it is for a 90\n",
      "it is for b 20\n",
      "it is for c 15\n",
      "***************\n"
     ]
    }
   ],
   "source": [
    "def morning(a,b,c):\n",
    "  print('it is for a',a)\n",
    "  print('it is for b',b)\n",
    "  print('it is for c',c)\n",
    "\n",
    "a = 10\n",
    "b = 20\n",
    "c = 30\n",
    "\n",
    "morning(a,b,c)\n",
    "print(15*'*')\n",
    "morning(c,a,b)\n",
    "print(15*'*')\n",
    "morning(90,20,15)\n",
    "print(15*'*')\n"
   ]
  },
  {
   "cell_type": "code",
   "execution_count": 88,
   "id": "6a3a8e3e",
   "metadata": {},
   "outputs": [
    {
     "name": "stdout",
     "output_type": "stream",
     "text": [
      "<class 'str'>\n",
      "None\n"
     ]
    }
   ],
   "source": [
    "print(print(type('one')))"
   ]
  },
  {
   "cell_type": "code",
   "execution_count": 89,
   "id": "e5ba1803",
   "metadata": {},
   "outputs": [
    {
     "name": "stdout",
     "output_type": "stream",
     "text": [
      "15\n"
     ]
    },
    {
     "ename": "TypeError",
     "evalue": "unsupported operand type(s) for +: 'NoneType' and 'int'",
     "output_type": "error",
     "traceback": [
      "\u001b[1;31m---------------------------------------------------------------------------\u001b[0m",
      "\u001b[1;31mTypeError\u001b[0m                                 Traceback (most recent call last)",
      "Cell \u001b[1;32mIn[89], line 8\u001b[0m\n\u001b[0;32m      5\u001b[0m     c \u001b[38;5;241m=\u001b[39m  c \u001b[38;5;241m+\u001b[39m i\n\u001b[0;32m      6\u001b[0m   \u001b[38;5;28mprint\u001b[39m(c)\n\u001b[1;32m----> 8\u001b[0m \u001b[43madditon\u001b[49m\u001b[43m(\u001b[49m\u001b[43ma\u001b[49m\u001b[43m)\u001b[49m\u001b[43m \u001b[49m\u001b[38;5;241;43m+\u001b[39;49m\u001b[43m \u001b[49m\u001b[38;5;241;43m15\u001b[39;49m\n",
      "\u001b[1;31mTypeError\u001b[0m: unsupported operand type(s) for +: 'NoneType' and 'int'"
     ]
    }
   ],
   "source": [
    "a = [1,2,3,4,5]\n",
    "def additon(getting):\n",
    "  c = 0\n",
    "  for i in getting:\n",
    "    c =  c + i\n",
    "  print(c)\n",
    "\n",
    "additon(a) + 15"
   ]
  },
  {
   "cell_type": "code",
   "execution_count": 91,
   "id": "e454714c",
   "metadata": {},
   "outputs": [
    {
     "data": {
      "text/plain": [
       "35"
      ]
     },
     "execution_count": 91,
     "metadata": {},
     "output_type": "execute_result"
    }
   ],
   "source": [
    "a = [1,2,3,4,5,6,7,8]\n",
    "def additon(getting):\n",
    "  c = 0\n",
    "  for i in getting:\n",
    "    c =  c + i\n",
    "\n",
    "  return 20\n",
    "  return c\n",
    "\n",
    "additon(a) + 15"
   ]
  },
  {
   "cell_type": "code",
   "execution_count": 95,
   "id": "53e2b75f",
   "metadata": {},
   "outputs": [
    {
     "name": "stdout",
     "output_type": "stream",
     "text": [
      "20\n",
      "10\n",
      "10\n",
      "35\n"
     ]
    }
   ],
   "source": [
    "a = [1,2,3,4,5,6,7,8]\n",
    "def additon(getting):\n",
    "  c = 0\n",
    "  for i in getting:\n",
    "    c =  c + i\n",
    "  print(20)\n",
    "  print(10)\n",
    "  print('10')\n",
    "  return 20\n",
    "  return c\n",
    "\n",
    "v = additon(a) + 15\n",
    "print(v)"
   ]
  },
  {
   "cell_type": "code",
   "execution_count": 98,
   "id": "215cebc1",
   "metadata": {},
   "outputs": [],
   "source": [
    "def check(a,b,c,d):\n",
    "  if a>b:\n",
    "    print(1)\n",
    "  elif b>a and b > c:\n",
    "    print(2)\n",
    "  else:\n",
    "    return 5\n",
    "  return 2"
   ]
  },
  {
   "cell_type": "code",
   "execution_count": 97,
   "id": "6979a63b",
   "metadata": {},
   "outputs": [
    {
     "data": {
      "text/plain": [
       "10"
      ]
     },
     "execution_count": 97,
     "metadata": {},
     "output_type": "execute_result"
    }
   ],
   "source": [
    "v = check(1,2,33,4) + 5\n",
    "v"
   ]
  },
  {
   "cell_type": "code",
   "execution_count": 99,
   "id": "ac151ad9",
   "metadata": {},
   "outputs": [
    {
     "name": "stdout",
     "output_type": "stream",
     "text": [
      "2\n"
     ]
    },
    {
     "data": {
      "text/plain": [
       "7"
      ]
     },
     "execution_count": 99,
     "metadata": {},
     "output_type": "execute_result"
    }
   ],
   "source": [
    "v = check(1,2,1.33,4) + 5\n",
    "v"
   ]
  },
  {
   "cell_type": "code",
   "execution_count": 100,
   "id": "c71cf476",
   "metadata": {},
   "outputs": [],
   "source": [
    "def con(f,p):\n",
    "  if f > p:\n",
    "    return [1,2,3]\n",
    "\n",
    "  if f == 'mag':\n",
    "    return 1\n",
    "  elif f > 90:\n",
    "    return 2\n",
    "  else:\n",
    "    return 3\n",
    "\n",
    "  if 'Magesh':\n",
    "    return 4"
   ]
  },
  {
   "cell_type": "code",
   "execution_count": 101,
   "id": "7077797e",
   "metadata": {},
   "outputs": [
    {
     "data": {
      "text/plain": [
       "3"
      ]
     },
     "execution_count": 101,
     "metadata": {},
     "output_type": "execute_result"
    }
   ],
   "source": [
    "a = con(40 , 50)\n",
    "\n",
    "a"
   ]
  },
  {
   "cell_type": "code",
   "execution_count": 102,
   "id": "2dcab91c",
   "metadata": {},
   "outputs": [],
   "source": [
    "def con(f,p):\n",
    "  if f > p:\n",
    "    return [1,2,3]\n",
    "\n",
    "  if f != '40':\n",
    "    print(1)\n",
    "  elif f > 90:\n",
    "    return 2\n",
    "  else:\n",
    "    return 3\n",
    "\n",
    "  if 'Magesh':\n",
    "    return 4\n"
   ]
  },
  {
   "cell_type": "raw",
   "id": "43f1f2b6",
   "metadata": {},
   "source": [
    "# lambda"
   ]
  },
  {
   "cell_type": "code",
   "execution_count": null,
   "id": "6c6bba5e",
   "metadata": {},
   "outputs": [],
   "source": []
  },
  {
   "cell_type": "code",
   "execution_count": null,
   "id": "55744ccb",
   "metadata": {},
   "outputs": [],
   "source": []
  },
  {
   "cell_type": "code",
   "execution_count": 103,
   "id": "29c28c93",
   "metadata": {},
   "outputs": [
    {
     "name": "stdout",
     "output_type": "stream",
     "text": [
      "1\n"
     ]
    },
    {
     "data": {
      "text/plain": [
       "4"
      ]
     },
     "execution_count": 103,
     "metadata": {},
     "output_type": "execute_result"
    }
   ],
   "source": [
    "a = con(40 , 50)\n",
    "\n",
    "a"
   ]
  },
  {
   "cell_type": "code",
   "execution_count": 104,
   "id": "4388fa25",
   "metadata": {},
   "outputs": [],
   "source": [
    "def con(f,p):\n",
    "  if f > p:\n",
    "    return [1,2,3]\n",
    "\n",
    "  if 'magesh' * 0 == False:\n",
    "    print(1)\n",
    "  elif f > 90:\n",
    "    return 2\n",
    "  else:\n",
    "    return 3\n",
    "\n",
    "  if 'Magesh':\n",
    "    return 4"
   ]
  },
  {
   "cell_type": "code",
   "execution_count": 105,
   "id": "23ee32fb",
   "metadata": {},
   "outputs": [
    {
     "data": {
      "text/plain": [
       "False"
      ]
     },
     "execution_count": 105,
     "metadata": {},
     "output_type": "execute_result"
    }
   ],
   "source": [
    "'magesh' * 0 == False"
   ]
  },
  {
   "cell_type": "code",
   "execution_count": 112,
   "id": "e612160e",
   "metadata": {},
   "outputs": [
    {
     "data": {
      "text/plain": [
       "True"
      ]
     },
     "execution_count": 112,
     "metadata": {},
     "output_type": "execute_result"
    }
   ],
   "source": [
    "\" \" == True"
   ]
  },
  {
   "cell_type": "raw",
   "id": "4ec6b82f",
   "metadata": {},
   "source": [
    "CLASS"
   ]
  },
  {
   "cell_type": "code",
   "execution_count": null,
   "id": "370d48c6",
   "metadata": {},
   "outputs": [],
   "source": [
    "# OOPS - Object Oriented Programming"
   ]
  },
  {
   "cell_type": "code",
   "execution_count": 31,
   "id": "a7a00d04",
   "metadata": {},
   "outputs": [
    {
     "name": "stdout",
     "output_type": "stream",
     "text": [
      "<class 'list'>\n"
     ]
    }
   ],
   "source": [
    "print(type([1,2,3,4]))"
   ]
  },
  {
   "cell_type": "code",
   "execution_count": null,
   "id": "d24201bf",
   "metadata": {},
   "outputs": [],
   "source": [
    "# self - instance of a class"
   ]
  },
  {
   "cell_type": "code",
   "execution_count": 33,
   "id": "0f486967",
   "metadata": {},
   "outputs": [
    {
     "ename": "SyntaxError",
     "evalue": "invalid syntax (2900489033.py, line 18)",
     "output_type": "error",
     "traceback": [
      "\u001b[1;36m  Cell \u001b[1;32mIn[33], line 18\u001b[1;36m\u001b[0m\n\u001b[1;33m    def class()\u001b[0m\n\u001b[1;37m        ^\u001b[0m\n\u001b[1;31mSyntaxError\u001b[0m\u001b[1;31m:\u001b[0m invalid syntax\n"
     ]
    }
   ],
   "source": [
    "class Engine:\n",
    "\n",
    "  def piston(self):\n",
    "    print('piston')\n",
    "\n",
    "  def cylinder(self):\n",
    "    print('cylinder')\n",
    "\n",
    "  def flywheel(self):\n",
    "    print('flywheel')\n",
    "\n",
    "  def crankshaft(self):\n",
    "    print('crankshaft')\n",
    "\n",
    "  def ecu(self):\n",
    "    print('ECU')\n",
    "\n",
    "def class()"
   ]
  },
  {
   "cell_type": "code",
   "execution_count": 35,
   "id": "2c1fc7ab",
   "metadata": {},
   "outputs": [
    {
     "data": {
      "text/plain": [
       "['__class__',\n",
       " '__delattr__',\n",
       " '__dict__',\n",
       " '__dir__',\n",
       " '__doc__',\n",
       " '__eq__',\n",
       " '__format__',\n",
       " '__ge__',\n",
       " '__getattribute__',\n",
       " '__gt__',\n",
       " '__hash__',\n",
       " '__init__',\n",
       " '__init_subclass__',\n",
       " '__le__',\n",
       " '__lt__',\n",
       " '__module__',\n",
       " '__ne__',\n",
       " '__new__',\n",
       " '__reduce__',\n",
       " '__reduce_ex__',\n",
       " '__repr__',\n",
       " '__setattr__',\n",
       " '__sizeof__',\n",
       " '__str__',\n",
       " '__subclasshook__',\n",
       " '__weakref__',\n",
       " 'crankshaft',\n",
       " 'cylinder',\n",
       " 'ecu',\n",
       " 'flywheel',\n",
       " 'piston']"
      ]
     },
     "execution_count": 35,
     "metadata": {},
     "output_type": "execute_result"
    }
   ],
   "source": [
    "dir(Engine)"
   ]
  },
  {
   "cell_type": "code",
   "execution_count": 5,
   "id": "754fd581",
   "metadata": {},
   "outputs": [
    {
     "data": {
      "text/plain": [
       "-1.0"
      ]
     },
     "execution_count": 5,
     "metadata": {},
     "output_type": "execute_result"
    }
   ],
   "source": [
    "v(4,2,3)"
   ]
  },
  {
   "cell_type": "code",
   "execution_count": 6,
   "id": "dc3a0479",
   "metadata": {},
   "outputs": [
    {
     "data": {
      "text/plain": [
       "6.0"
      ]
     },
     "execution_count": 6,
     "metadata": {},
     "output_type": "execute_result"
    }
   ],
   "source": [
    "v(4,2,3) + 7"
   ]
  },
  {
   "cell_type": "code",
   "execution_count": 15,
   "id": "a69fab83",
   "metadata": {},
   "outputs": [
    {
     "data": {
      "text/plain": [
       "70.0"
      ]
     },
     "execution_count": 15,
     "metadata": {},
     "output_type": "execute_result"
    }
   ],
   "source": [
    "v = lambda a,b,c,d,e,f,g: 2*a+b+c-e*d/f//g\n",
    "v(10,20,30,80,9,4,565)"
   ]
  },
  {
   "cell_type": "raw",
   "id": "f91c16e0",
   "metadata": {},
   "source": [
    "COMPHRENSION:"
   ]
  },
  {
   "cell_type": "code",
   "execution_count": 71,
   "id": "fda2a019",
   "metadata": {},
   "outputs": [
    {
     "data": {
      "text/plain": [
       "[2, 4, 6, 8, 10, 12]"
      ]
     },
     "execution_count": 71,
     "metadata": {},
     "output_type": "execute_result"
    }
   ],
   "source": [
    "a = [1,2,3,4,5,6]\n",
    "b = []\n",
    "for i in a:\n",
    "  b.append(2*i)\n",
    "b"
   ]
  },
  {
   "cell_type": "code",
   "execution_count": 72,
   "id": "19567ca6",
   "metadata": {},
   "outputs": [
    {
     "data": {
      "text/plain": [
       "[2, 4, 6, 8, 10, 12]"
      ]
     },
     "execution_count": 72,
     "metadata": {},
     "output_type": "execute_result"
    }
   ],
   "source": [
    "b = [i*2 for i in a]\n",
    "b"
   ]
  },
  {
   "cell_type": "code",
   "execution_count": 73,
   "id": "8a80be23",
   "metadata": {},
   "outputs": [
    {
     "data": {
      "text/plain": [
       "['mag', 'mag', 'mag', 'mag', 'mag', 'mag']"
      ]
     },
     "execution_count": 73,
     "metadata": {},
     "output_type": "execute_result"
    }
   ],
   "source": [
    "b = ['mag' for i in a]\n",
    "b"
   ]
  },
  {
   "cell_type": "code",
   "execution_count": 74,
   "id": "03fb9358",
   "metadata": {},
   "outputs": [
    {
     "data": {
      "text/plain": [
       "[4, 8, 12]"
      ]
     },
     "execution_count": 74,
     "metadata": {},
     "output_type": "execute_result"
    }
   ],
   "source": [
    "b = [i*2 for i in a if i%2==0]\n",
    "b"
   ]
  },
  {
   "cell_type": "code",
   "execution_count": 75,
   "id": "9f25c88d",
   "metadata": {},
   "outputs": [
    {
     "data": {
      "text/plain": [
       "[2, 'mag', 6, 'mag', 10, 'mag']"
      ]
     },
     "execution_count": 75,
     "metadata": {},
     "output_type": "execute_result"
    }
   ],
   "source": [
    "b = [i*2 if i%2 else 'mag' for i in a ]\n",
    "b"
   ]
  },
  {
   "cell_type": "raw",
   "id": "44e7b360",
   "metadata": {},
   "source": [
    "# EXCEPTION HANDLING: // error handling"
   ]
  },
  {
   "cell_type": "code",
   "execution_count": 68,
   "id": "fed63c80",
   "metadata": {},
   "outputs": [
    {
     "name": "stdout",
     "output_type": "stream",
     "text": [
      "There was an error\n"
     ]
    }
   ],
   "source": [
    "try:\n",
    "  a = '234234a'\n",
    "  int(a)\n",
    "except:\n",
    "  print('There was an error')"
   ]
  },
  {
   "cell_type": "code",
   "execution_count": 69,
   "id": "0cf64768",
   "metadata": {},
   "outputs": [
    {
     "name": "stdout",
     "output_type": "stream",
     "text": [
      "There was an error\n",
      "even\n"
     ]
    }
   ],
   "source": [
    "a = '234234a'\n",
    "try:\n",
    "  int(a)\n",
    "except:\n",
    "  a = 1000\n",
    "  print('There was an error')\n",
    "\n",
    "\n",
    "if a%2 == 0:\n",
    "  print('even')\n",
    "else:\n",
    "  print('odd')"
   ]
  },
  {
   "cell_type": "code",
   "execution_count": 70,
   "id": "3dde5851",
   "metadata": {},
   "outputs": [
    {
     "name": "stdout",
     "output_type": "stream",
     "text": [
      "'magesh'\n",
      "There was an error\n"
     ]
    }
   ],
   "source": [
    "a = '234234a'\n",
    "d = {'name':'Magesh',\"age\":20}\n",
    "try:\n",
    "  d['magesh']\n",
    "# except Exception as e:\n",
    "except Exception as err:\n",
    "  a = 1000\n",
    "  print(err)\n",
    "  print('There was an error')"
   ]
  },
  {
   "cell_type": "code",
   "execution_count": null,
   "id": "70836567",
   "metadata": {},
   "outputs": [],
   "source": []
  }
 ],
 "metadata": {
  "kernelspec": {
   "display_name": "Python 3 (ipykernel)",
   "language": "python",
   "name": "python3"
  },
  "language_info": {
   "codemirror_mode": {
    "name": "ipython",
    "version": 3
   },
   "file_extension": ".py",
   "mimetype": "text/x-python",
   "name": "python",
   "nbconvert_exporter": "python",
   "pygments_lexer": "ipython3",
   "version": "3.10.9"
  }
 },
 "nbformat": 4,
 "nbformat_minor": 5
}
