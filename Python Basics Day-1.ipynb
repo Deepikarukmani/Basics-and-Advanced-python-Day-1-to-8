{
 "cells": [
  {
   "cell_type": "code",
   "execution_count": null,
   "id": "23663bc5",
   "metadata": {},
   "outputs": [],
   "source": [
    "# DATA TYPES:\n",
    "\n",
    "# int   - Non-decimal numbers from -Infinity to +Infinity\n",
    "# float - Decimal numbers from -Infinity to +Infinity\n",
    "# bool    - True or False\n",
    "# str     - when anything is inside ' ' or \" \" or ''' ''' or \"\"\" \"\"\"\n",
    "# list\n",
    "# tuple\n",
    "# set\n",
    "# dict"
   ]
  },
  {
   "cell_type": "code",
   "execution_count": 1,
   "id": "6a52b4be",
   "metadata": {},
   "outputs": [
    {
     "data": {
      "text/plain": [
       "(343, -3543, 4543)"
      ]
     },
     "execution_count": 1,
     "metadata": {},
     "output_type": "execute_result"
    }
   ],
   "source": [
    "343 ,-3543, 4543"
   ]
  },
  {
   "cell_type": "code",
   "execution_count": 2,
   "id": "94f6c012",
   "metadata": {},
   "outputs": [
    {
     "data": {
      "text/plain": [
       "(3.43, -354.3, 4.543, 5.0)"
      ]
     },
     "execution_count": 2,
     "metadata": {},
     "output_type": "execute_result"
    }
   ],
   "source": [
    "3.43 ,-354.3, 4.543 , 5."
   ]
  },
  {
   "cell_type": "code",
   "execution_count": 3,
   "id": "0ebc7681",
   "metadata": {},
   "outputs": [],
   "source": [
    "# True , False"
   ]
  },
  {
   "cell_type": "code",
   "execution_count": 7,
   "id": "d68957a2",
   "metadata": {},
   "outputs": [
    {
     "data": {
      "text/plain": [
       "('deepika', 'I live in India', 'This is a string')"
      ]
     },
     "execution_count": 7,
     "metadata": {},
     "output_type": "execute_result"
    }
   ],
   "source": [
    "'deepika' , \"I live in India\" , '''This is a string'''"
   ]
  },
  {
   "cell_type": "code",
   "execution_count": 5,
   "id": "b4e60acd",
   "metadata": {},
   "outputs": [
    {
     "data": {
      "text/plain": [
       "'34.234'"
      ]
     },
     "execution_count": 5,
     "metadata": {},
     "output_type": "execute_result"
    }
   ],
   "source": [
    "'34.234'"
   ]
  },
  {
   "cell_type": "code",
   "execution_count": 6,
   "id": "011a8bec",
   "metadata": {},
   "outputs": [
    {
     "data": {
      "text/plain": [
       "str"
      ]
     },
     "execution_count": 6,
     "metadata": {},
     "output_type": "execute_result"
    }
   ],
   "source": [
    "type('deepika')"
   ]
  },
  {
   "cell_type": "code",
   "execution_count": 8,
   "id": "3e089f32",
   "metadata": {},
   "outputs": [
    {
     "data": {
      "text/plain": [
       "int"
      ]
     },
     "execution_count": 8,
     "metadata": {},
     "output_type": "execute_result"
    }
   ],
   "source": [
    "type(123)\n"
   ]
  },
  {
   "cell_type": "code",
   "execution_count": 9,
   "id": "6409c7dc",
   "metadata": {},
   "outputs": [
    {
     "data": {
      "text/plain": [
       "float"
      ]
     },
     "execution_count": 9,
     "metadata": {},
     "output_type": "execute_result"
    }
   ],
   "source": [
    "type(12.4323)"
   ]
  },
  {
   "cell_type": "code",
   "execution_count": 10,
   "id": "f21eb3b6",
   "metadata": {},
   "outputs": [
    {
     "data": {
      "text/plain": [
       "float"
      ]
     },
     "execution_count": 10,
     "metadata": {},
     "output_type": "execute_result"
    }
   ],
   "source": [
    "type(-324234.234) # wil be ignored by python for single line"
   ]
  },
  {
   "cell_type": "code",
   "execution_count": 11,
   "id": "d3114edc",
   "metadata": {},
   "outputs": [
    {
     "name": "stdout",
     "output_type": "stream",
     "text": [
      "<class 'str'>\n",
      "<class 'int'>\n",
      "<class 'float'>\n"
     ]
    }
   ],
   "source": [
    "print(type('deepika'))   \n",
    "print(type(123))        \n",
    "print(type(12.4323)) "
   ]
  },
  {
   "cell_type": "code",
   "execution_count": null,
   "id": "62f2748b",
   "metadata": {},
   "outputs": [],
   "source": [
    "print('deepika')\n",
    "print('I live in India')\n",
    "print('THis is My btach')"
   ]
  },
  {
   "cell_type": "raw",
   "id": "b7e83188",
   "metadata": {},
   "source": [
    "    # INT & FLOAT:"
   ]
  },
  {
   "cell_type": "code",
   "execution_count": 13,
   "id": "5a426f13",
   "metadata": {},
   "outputs": [
    {
     "name": "stdout",
     "output_type": "stream",
     "text": [
      "100\n",
      "-80\n",
      "900\n"
     ]
    }
   ],
   "source": [
    "print(10 + 90)\n",
    "print(10 - 90)\n",
    "print(10 * 90)"
   ]
  },
  {
   "cell_type": "code",
   "execution_count": 14,
   "id": "c128c7d9",
   "metadata": {},
   "outputs": [
    {
     "name": "stdout",
     "output_type": "stream",
     "text": [
      "4.0\n"
     ]
    }
   ],
   "source": [
    "# division: /\n",
    "\n",
    "print(20 / 5)"
   ]
  },
  {
   "cell_type": "code",
   "execution_count": 15,
   "id": "c84b57fd",
   "metadata": {},
   "outputs": [
    {
     "name": "stdout",
     "output_type": "stream",
     "text": [
      "5\n"
     ]
    }
   ],
   "source": [
    "# Floor Division: //\n",
    "\n",
    "print(45 // 8) # "
   ]
  },
  {
   "cell_type": "code",
   "execution_count": 16,
   "id": "c2f264f1",
   "metadata": {},
   "outputs": [
    {
     "name": "stdout",
     "output_type": "stream",
     "text": [
      "3\n",
      "6\n"
     ]
    }
   ],
   "source": [
    "# Modolo Division: %\n",
    "\n",
    "print(30 % 9) # 3\n",
    "print(30 % 8) # 6"
   ]
  },
  {
   "cell_type": "code",
   "execution_count": 17,
   "id": "931a22f7",
   "metadata": {},
   "outputs": [
    {
     "name": "stdout",
     "output_type": "stream",
     "text": [
      "4\n",
      "56\n"
     ]
    },
    {
     "data": {
      "text/plain": [
       "64"
      ]
     },
     "execution_count": 17,
     "metadata": {},
     "output_type": "execute_result"
    }
   ],
   "source": [
    "print(452 % 8)      # 4\n",
    "print(452 // 8)     # 56\n",
    "4 ** 3 # 64"
   ]
  },
  {
   "cell_type": "code",
   "execution_count": 18,
   "id": "9a65e106",
   "metadata": {},
   "outputs": [
    {
     "data": {
      "text/plain": [
       "2.5"
      ]
     },
     "execution_count": 18,
     "metadata": {},
     "output_type": "execute_result"
    }
   ],
   "source": [
    "4 - 6 + 8 / 4 + (2**3 % 5 * 2 - 5 // 2 + 1.5) - 9 // 6 - 2"
   ]
  },
  {
   "cell_type": "code",
   "execution_count": 19,
   "id": "b14d9ff0",
   "metadata": {},
   "outputs": [
    {
     "name": "stdout",
     "output_type": "stream",
     "text": [
      "2.0\n",
      "0.0\n",
      "16\n"
     ]
    }
   ],
   "source": [
    "print(4 * 2.5 // 5) #  2.0\n",
    "print(2.5 // 5 * 4) #  0.0\n",
    "print(25 // 6 * 4) #  16\n"
   ]
  },
  {
   "cell_type": "code",
   "execution_count": 22,
   "id": "42efb7cd",
   "metadata": {},
   "outputs": [
    {
     "data": {
      "text/plain": [
       "0.0"
      ]
     },
     "execution_count": 22,
     "metadata": {},
     "output_type": "execute_result"
    }
   ],
   "source": [
    "2.5 // 5"
   ]
  },
  {
   "cell_type": "markdown",
   "id": "84f92ce4",
   "metadata": {},
   "source": [
    "COMPARISION/EQUALITY OPERATION:"
   ]
  },
  {
   "cell_type": "code",
   "execution_count": null,
   "id": "fb1d3895",
   "metadata": {},
   "outputs": [],
   "source": [
    "# > , < , >= , <= , == , !=\n",
    "\n",
    "# output will be in bool"
   ]
  },
  {
   "cell_type": "code",
   "execution_count": 24,
   "id": "c2b0df02",
   "metadata": {},
   "outputs": [
    {
     "name": "stdout",
     "output_type": "stream",
     "text": [
      "False\n",
      "True\n",
      "False\n",
      "False\n",
      "True\n"
     ]
    }
   ],
   "source": [
    "print(45 > 45)     \n",
    "print(45 == 45.00000000)   \n",
    "print(45 == 45.000000001)   \n",
    "print(45 != 45 ) \n",
    "print(45 >= 45 )"
   ]
  },
  {
   "cell_type": "raw",
   "id": "700ac9aa",
   "metadata": {},
   "source": [
    "TYPE CONVERSION:"
   ]
  },
  {
   "cell_type": "code",
   "execution_count": null,
   "id": "cc86bff1",
   "metadata": {},
   "outputs": [],
   "source": [
    "int()\n",
    "# convert any number into int"
   ]
  },
  {
   "cell_type": "code",
   "execution_count": 25,
   "id": "5e0ddc25",
   "metadata": {},
   "outputs": [
    {
     "data": {
      "text/plain": [
       "223.0"
      ]
     },
     "execution_count": 25,
     "metadata": {},
     "output_type": "execute_result"
    }
   ],
   "source": [
    "int(223.234) \n",
    "float(223)"
   ]
  },
  {
   "cell_type": "markdown",
   "id": "65e4589f",
   "metadata": {},
   "source": [
    "STRING:"
   ]
  },
  {
   "cell_type": "code",
   "execution_count": 26,
   "id": "c4736c36",
   "metadata": {},
   "outputs": [
    {
     "data": {
      "text/plain": [
       "''"
      ]
     },
     "execution_count": 26,
     "metadata": {},
     "output_type": "execute_result"
    }
   ],
   "source": [
    "str() "
   ]
  },
  {
   "cell_type": "code",
   "execution_count": 27,
   "id": "f6fa8662",
   "metadata": {},
   "outputs": [
    {
     "data": {
      "text/plain": [
       "str"
      ]
     },
     "execution_count": 27,
     "metadata": {},
     "output_type": "execute_result"
    }
   ],
   "source": [
    "type(str(23423423))\n"
   ]
  },
  {
   "cell_type": "code",
   "execution_count": 28,
   "id": "5a28370b",
   "metadata": {},
   "outputs": [],
   "source": [
    "# index_number:\n",
    "  # it starts from 0 and ends with len-1"
   ]
  },
  {
   "cell_type": "code",
   "execution_count": 29,
   "id": "41d71ff0",
   "metadata": {},
   "outputs": [
    {
     "name": "stdout",
     "output_type": "stream",
     "text": [
      "I live in India\n",
      "15\n"
     ]
    }
   ],
   "source": [
    "a = 'I live in India'\n",
    "#    0123456789.....\n",
    "print(a)\n",
    "print(len(a))"
   ]
  },
  {
   "cell_type": "raw",
   "id": "f52c394e",
   "metadata": {},
   "source": [
    "# INDEXING:\n",
    "\n",
    "# to take any sing element from str datatype.\n",
    "\n",
    "# syntax:\n",
    "# str_element[index_number]"
   ]
  },
  {
   "cell_type": "code",
   "execution_count": 33,
   "id": "7c92d4cf",
   "metadata": {},
   "outputs": [
    {
     "data": {
      "text/plain": [
       "'e'"
      ]
     },
     "execution_count": 33,
     "metadata": {},
     "output_type": "execute_result"
    }
   ],
   "source": [
    "a[5] \n"
   ]
  },
  {
   "cell_type": "code",
   "execution_count": 34,
   "id": "0b1790c5",
   "metadata": {},
   "outputs": [
    {
     "data": {
      "text/plain": [
       "'I'"
      ]
     },
     "execution_count": 34,
     "metadata": {},
     "output_type": "execute_result"
    }
   ],
   "source": [
    "a[10]"
   ]
  },
  {
   "cell_type": "code",
   "execution_count": 35,
   "id": "88087853",
   "metadata": {},
   "outputs": [
    {
     "name": "stdout",
     "output_type": "stream",
     "text": [
      "['False', 'None', 'True', 'and', 'as', 'assert', 'async', 'await', 'break', 'class', 'continue', 'def', 'del', 'elif', 'else', 'except', 'finally', 'for', 'from', 'global', 'if', 'import', 'in', 'is', 'lambda', 'nonlocal', 'not', 'or', 'pass', 'raise', 'return', 'try', 'while', 'with', 'yield']\n"
     ]
    }
   ],
   "source": [
    "import keyword\n",
    "print(keyword.kwlist)"
   ]
  }
 ],
 "metadata": {
  "kernelspec": {
   "display_name": "Python 3 (ipykernel)",
   "language": "python",
   "name": "python3"
  },
  "language_info": {
   "codemirror_mode": {
    "name": "ipython",
    "version": 3
   },
   "file_extension": ".py",
   "mimetype": "text/x-python",
   "name": "python",
   "nbconvert_exporter": "python",
   "pygments_lexer": "ipython3",
   "version": "3.10.9"
  }
 },
 "nbformat": 4,
 "nbformat_minor": 5
}
