{
 "cells": [
  {
   "cell_type": "raw",
   "id": "8a66f571",
   "metadata": {},
   "source": [
    "# for with range\n",
    "# while\n",
    "# tuple\n",
    "# set\n",
    "# dict\n",
    "# functions"
   ]
  },
  {
   "cell_type": "code",
   "execution_count": 1,
   "id": "53e32292",
   "metadata": {},
   "outputs": [
    {
     "data": {
      "text/plain": [
       "['__add__',\n",
       " '__class__',\n",
       " '__class_getitem__',\n",
       " '__contains__',\n",
       " '__delattr__',\n",
       " '__delitem__',\n",
       " '__dir__',\n",
       " '__doc__',\n",
       " '__eq__',\n",
       " '__format__',\n",
       " '__ge__',\n",
       " '__getattribute__',\n",
       " '__getitem__',\n",
       " '__gt__',\n",
       " '__hash__',\n",
       " '__iadd__',\n",
       " '__imul__',\n",
       " '__init__',\n",
       " '__init_subclass__',\n",
       " '__iter__',\n",
       " '__le__',\n",
       " '__len__',\n",
       " '__lt__',\n",
       " '__mul__',\n",
       " '__ne__',\n",
       " '__new__',\n",
       " '__reduce__',\n",
       " '__reduce_ex__',\n",
       " '__repr__',\n",
       " '__reversed__',\n",
       " '__rmul__',\n",
       " '__setattr__',\n",
       " '__setitem__',\n",
       " '__sizeof__',\n",
       " '__str__',\n",
       " '__subclasshook__',\n",
       " 'append',\n",
       " 'clear',\n",
       " 'copy',\n",
       " 'count',\n",
       " 'extend',\n",
       " 'index',\n",
       " 'insert',\n",
       " 'pop',\n",
       " 'remove',\n",
       " 'reverse',\n",
       " 'sort']"
      ]
     },
     "execution_count": 1,
     "metadata": {},
     "output_type": "execute_result"
    }
   ],
   "source": [
    "dir(list())"
   ]
  },
  {
   "cell_type": "code",
   "execution_count": 2,
   "id": "8e07de02",
   "metadata": {},
   "outputs": [
    {
     "name": "stdout",
     "output_type": "stream",
     "text": [
      "2\n",
      "4\n"
     ]
    }
   ],
   "source": [
    "a = [1,2,3,4,5]\n",
    "for i in a:\n",
    "  if i % 2 ==0:\n",
    "    print(i)"
   ]
  },
  {
   "cell_type": "code",
   "execution_count": 3,
   "id": "4827486c",
   "metadata": {},
   "outputs": [
    {
     "name": "stdout",
     "output_type": "stream",
     "text": [
      "1\n",
      "3\n",
      "5\n"
     ]
    }
   ],
   "source": [
    "a = [1,2,3,4,5]\n",
    "for i in a:\n",
    "  if i % 2 !=0:\n",
    "    print(i)"
   ]
  },
  {
   "cell_type": "raw",
   "id": "ff621ccf",
   "metadata": {},
   "source": [
    "range"
   ]
  },
  {
   "cell_type": "code",
   "execution_count": 4,
   "id": "7aa4300b",
   "metadata": {},
   "outputs": [
    {
     "data": {
      "text/plain": [
       "range(0, 5)"
      ]
     },
     "execution_count": 4,
     "metadata": {},
     "output_type": "execute_result"
    }
   ],
   "source": [
    "range(5)"
   ]
  },
  {
   "cell_type": "code",
   "execution_count": 5,
   "id": "1ce3ee9e",
   "metadata": {},
   "outputs": [
    {
     "data": {
      "text/plain": [
       "[0, 1, 2, 3, 4]"
      ]
     },
     "execution_count": 5,
     "metadata": {},
     "output_type": "execute_result"
    }
   ],
   "source": [
    "list(range(5))"
   ]
  },
  {
   "cell_type": "code",
   "execution_count": 6,
   "id": "9488325f",
   "metadata": {},
   "outputs": [
    {
     "name": "stdout",
     "output_type": "stream",
     "text": [
      "[5, 6, 7, 8, 9]\n",
      "[5, 8, 11, 14]\n"
     ]
    }
   ],
   "source": [
    "print(list(range(5,10))) # 5,6,7,8,9\n",
    "print(list(range(5,17,3))) # 5,8,11,14"
   ]
  },
  {
   "cell_type": "code",
   "execution_count": 7,
   "id": "5b40a270",
   "metadata": {},
   "outputs": [
    {
     "name": "stdout",
     "output_type": "stream",
     "text": [
      "0\n",
      "1\n",
      "2\n",
      "3\n",
      "4\n"
     ]
    }
   ],
   "source": [
    "for i in range(5):\n",
    "  print(i)"
   ]
  },
  {
   "cell_type": "code",
   "execution_count": 8,
   "id": "057cf067",
   "metadata": {},
   "outputs": [
    {
     "name": "stdout",
     "output_type": "stream",
     "text": [
      "1\n",
      "2\n",
      "3\n",
      "4\n",
      "5\n"
     ]
    }
   ],
   "source": [
    "a = [1,2,3,4,5]\n",
    "print(a[0])\n",
    "print(a[1])\n",
    "print(a[2])\n",
    "print(a[3])\n",
    "print(a[4])"
   ]
  },
  {
   "cell_type": "code",
   "execution_count": 9,
   "id": "b5fef29e",
   "metadata": {},
   "outputs": [
    {
     "name": "stdout",
     "output_type": "stream",
     "text": [
      "(0, 1)\n",
      "(1, 2)\n",
      "(2, 3)\n",
      "(3, 4)\n",
      "(4, 5)\n"
     ]
    }
   ],
   "source": [
    "a = [1,2,3,4,5]\n",
    "for i in enumerate(a):\n",
    "  print(i)\n"
   ]
  },
  {
   "cell_type": "code",
   "execution_count": 10,
   "id": "831af62e",
   "metadata": {},
   "outputs": [
    {
     "name": "stdout",
     "output_type": "stream",
     "text": [
      "1\n",
      "2\n",
      "3\n",
      "4\n",
      "5\n"
     ]
    }
   ],
   "source": [
    "a = [1,2,3,4,5]\n",
    "for i in range(5):\n",
    "  print(a[i])\n"
   ]
  },
  {
   "cell_type": "code",
   "execution_count": 11,
   "id": "a4d26dfa",
   "metadata": {},
   "outputs": [],
   "source": [
    "a = [1,2,3]\n",
    "# a[3] # error"
   ]
  },
  {
   "cell_type": "code",
   "execution_count": 12,
   "id": "b4ee3568",
   "metadata": {},
   "outputs": [
    {
     "name": "stdout",
     "output_type": "stream",
     "text": [
      "[1, 2, 3, 4, 5]\n",
      "[4, 5, 6, 5, 6]\n",
      "4\n",
      "10\n",
      "18\n",
      "20\n",
      "30\n"
     ]
    }
   ],
   "source": [
    "a = 'I live in India'\n",
    "a = [1,2,3,4,5]\n",
    "b = [4,5,6,5,6]\n",
    "\n",
    "for i in a,b:\n",
    "    print(i)\n",
    "    \n",
    "    \n",
    "for i in range(5):          # range(len(a)) - 0,1,2,3,4\n",
    "  print(a[i]*b[i])\n"
   ]
  },
  {
   "cell_type": "code",
   "execution_count": 13,
   "id": "9c830fbd",
   "metadata": {},
   "outputs": [
    {
     "name": "stdout",
     "output_type": "stream",
     "text": [
      "1\n",
      "2\n",
      "3\n",
      "4\n",
      "5\n",
      "6\n"
     ]
    }
   ],
   "source": [
    "a = [1,2,3,4,5,6,7,8,9]\n",
    "for i in range(6):\n",
    "  print(a[i])"
   ]
  },
  {
   "cell_type": "raw",
   "id": "e047e430",
   "metadata": {},
   "source": [
    "while loop:"
   ]
  },
  {
   "cell_type": "code",
   "execution_count": 14,
   "id": "aa3ff7a9",
   "metadata": {},
   "outputs": [
    {
     "name": "stdout",
     "output_type": "stream",
     "text": [
      "2\n",
      "1\n"
     ]
    }
   ],
   "source": [
    "m=2\n",
    "while m > 0:\n",
    "  print(m)\n",
    "  m = m - 1"
   ]
  },
  {
   "cell_type": "code",
   "execution_count": 15,
   "id": "39f3ef46",
   "metadata": {},
   "outputs": [
    {
     "name": "stdout",
     "output_type": "stream",
     "text": [
      "1\n",
      "2\n",
      "3\n",
      "4\n",
      "1\n",
      "2\n",
      "3\n",
      "4\n"
     ]
    }
   ],
   "source": [
    "a = [1,2,3,4]\n",
    "\n",
    "m = 0                 # condition initilization\n",
    "while m < len(a):\n",
    "  print(a[m])\n",
    "  m = m + 1\n",
    "    \n",
    "    \n",
    "m = 1\n",
    "while m<5:\n",
    "    print(m)\n",
    "    m=m+1\n"
   ]
  },
  {
   "cell_type": "code",
   "execution_count": 16,
   "id": "2578d872",
   "metadata": {},
   "outputs": [
    {
     "name": "stdout",
     "output_type": "stream",
     "text": [
      "I\n",
      " \n",
      "l\n",
      "i\n",
      "v\n",
      "e\n",
      " \n",
      "i\n",
      "n\n"
     ]
    }
   ],
   "source": [
    "a = 'I live in'\n",
    "m = 0                 # condition initilization\n",
    "while m < len(a):\n",
    "  print(a[m])\n",
    "  m = m + 1"
   ]
  },
  {
   "cell_type": "code",
   "execution_count": 17,
   "id": "8508a4f9",
   "metadata": {},
   "outputs": [
    {
     "name": "stdout",
     "output_type": "stream",
     "text": [
      "2\n",
      "4\n",
      "6\n"
     ]
    }
   ],
   "source": [
    "a = [1,2,3,4,5,6]\n",
    "m = 0                 # condition initilization\n",
    "while m < len(a):\n",
    "  if a[m] % 2 ==0:\n",
    "    print(a[m])\n",
    "  m = m + 1"
   ]
  },
  {
   "cell_type": "code",
   "execution_count": 18,
   "id": "da9d092d",
   "metadata": {},
   "outputs": [
    {
     "name": "stdout",
     "output_type": "stream",
     "text": [
      "1\n",
      "3\n",
      "5\n"
     ]
    }
   ],
   "source": [
    "a = [1,2,3,4,5,6]\n",
    "m = 0                 # condition initilization\n",
    "while m < len(a):\n",
    "  if a[m] % 2 !=0:\n",
    "    print(a[m])\n",
    "  m = m + 1"
   ]
  },
  {
   "cell_type": "raw",
   "id": "5d6aa345",
   "metadata": {},
   "source": [
    "ITEM ASSIGNEMENT:"
   ]
  },
  {
   "cell_type": "code",
   "execution_count": 19,
   "id": "4b131bd0",
   "metadata": {},
   "outputs": [
    {
     "name": "stdout",
     "output_type": "stream",
     "text": [
      "[1, 2, 3, 'Magesh', ['Magesh', 34, 4543.345], 6, 7]\n"
     ]
    }
   ],
   "source": [
    "a = [1,2,3,4,5,6,7]\n",
    "\n",
    "a[3] = 'Magesh'\n",
    "a[4] = ['Magesh',34, 4543.345]\n",
    "\n",
    "print(a)"
   ]
  },
  {
   "cell_type": "raw",
   "id": "187b14a3",
   "metadata": {},
   "source": [
    "TUPLE: # slicing | indexing | iteration similar to list"
   ]
  },
  {
   "cell_type": "code",
   "execution_count": 20,
   "id": "f8dc82c9",
   "metadata": {},
   "outputs": [
    {
     "ename": "TypeError",
     "evalue": "'tuple' object does not support item assignment",
     "output_type": "error",
     "traceback": [
      "\u001b[1;31m---------------------------------------------------------------------------\u001b[0m",
      "\u001b[1;31mTypeError\u001b[0m                                 Traceback (most recent call last)",
      "Cell \u001b[1;32mIn[20], line 4\u001b[0m\n\u001b[0;32m      1\u001b[0m a \u001b[38;5;241m=\u001b[39m (\u001b[38;5;241m1\u001b[39m,\u001b[38;5;241m2\u001b[39m,\u001b[38;5;241m3\u001b[39m,\u001b[38;5;241m4\u001b[39m,\u001b[38;5;241m5\u001b[39m,\u001b[38;5;241m6\u001b[39m)\n\u001b[1;32m----> 4\u001b[0m a[\u001b[38;5;241m3\u001b[39m] \u001b[38;5;241m=\u001b[39m \u001b[38;5;124m'\u001b[39m\u001b[38;5;124mMagesh\u001b[39m\u001b[38;5;124m'\u001b[39m\n\u001b[0;32m      5\u001b[0m a[\u001b[38;5;241m4\u001b[39m] \u001b[38;5;241m=\u001b[39m [\u001b[38;5;124m'\u001b[39m\u001b[38;5;124mMagesh\u001b[39m\u001b[38;5;124m'\u001b[39m,\u001b[38;5;241m34\u001b[39m,\u001b[38;5;241m4543.345\u001b[39m]\n\u001b[0;32m      7\u001b[0m \u001b[38;5;28mprint\u001b[39m(a)\n",
      "\u001b[1;31mTypeError\u001b[0m: 'tuple' object does not support item assignment"
     ]
    }
   ],
   "source": [
    "a = (1,2,3,4,5,6)\n",
    "\n",
    "\n",
    "a[3] = 'Magesh'\n",
    "a[4] = ['Magesh',34,4543.345]\n",
    "\n",
    "print(a)"
   ]
  },
  {
   "cell_type": "code",
   "execution_count": 21,
   "id": "baf20fde",
   "metadata": {},
   "outputs": [
    {
     "data": {
      "text/plain": [
       "[1, 2, 3, 4, 5, 6]"
      ]
     },
     "execution_count": 21,
     "metadata": {},
     "output_type": "execute_result"
    }
   ],
   "source": [
    "a = (1,2,3,4,5,6)\n",
    "b = list(a)\n",
    "b"
   ]
  },
  {
   "cell_type": "code",
   "execution_count": 22,
   "id": "e8f5a4c3",
   "metadata": {},
   "outputs": [
    {
     "data": {
      "text/plain": [
       "(0, 1, 2, 3, 4)"
      ]
     },
     "execution_count": 22,
     "metadata": {},
     "output_type": "execute_result"
    }
   ],
   "source": [
    "tuple(range(5))"
   ]
  },
  {
   "cell_type": "code",
   "execution_count": 23,
   "id": "2d1c541a",
   "metadata": {},
   "outputs": [
    {
     "data": {
      "text/plain": [
       "['__add__',\n",
       " '__class__',\n",
       " '__class_getitem__',\n",
       " '__contains__',\n",
       " '__delattr__',\n",
       " '__dir__',\n",
       " '__doc__',\n",
       " '__eq__',\n",
       " '__format__',\n",
       " '__ge__',\n",
       " '__getattribute__',\n",
       " '__getitem__',\n",
       " '__getnewargs__',\n",
       " '__gt__',\n",
       " '__hash__',\n",
       " '__init__',\n",
       " '__init_subclass__',\n",
       " '__iter__',\n",
       " '__le__',\n",
       " '__len__',\n",
       " '__lt__',\n",
       " '__mul__',\n",
       " '__ne__',\n",
       " '__new__',\n",
       " '__reduce__',\n",
       " '__reduce_ex__',\n",
       " '__repr__',\n",
       " '__rmul__',\n",
       " '__setattr__',\n",
       " '__sizeof__',\n",
       " '__str__',\n",
       " '__subclasshook__',\n",
       " 'count',\n",
       " 'index']"
      ]
     },
     "execution_count": 23,
     "metadata": {},
     "output_type": "execute_result"
    }
   ],
   "source": [
    "dir(tuple())"
   ]
  },
  {
   "cell_type": "code",
   "execution_count": 24,
   "id": "8abc4d73",
   "metadata": {},
   "outputs": [
    {
     "name": "stdout",
     "output_type": "stream",
     "text": [
      "<class 'tuple'>\n",
      "<class 'list'>\n"
     ]
    }
   ],
   "source": [
    "ab = ()\n",
    "aa = []\n",
    "print(type(ab))\n",
    "print(type(aa))"
   ]
  },
  {
   "cell_type": "raw",
   "id": "6a1ef329",
   "metadata": {},
   "source": [
    "SET"
   ]
  },
  {
   "cell_type": "code",
   "execution_count": 25,
   "id": "499ffe23",
   "metadata": {},
   "outputs": [
    {
     "data": {
      "text/plain": [
       "['__and__',\n",
       " '__class__',\n",
       " '__class_getitem__',\n",
       " '__contains__',\n",
       " '__delattr__',\n",
       " '__dir__',\n",
       " '__doc__',\n",
       " '__eq__',\n",
       " '__format__',\n",
       " '__ge__',\n",
       " '__getattribute__',\n",
       " '__gt__',\n",
       " '__hash__',\n",
       " '__iand__',\n",
       " '__init__',\n",
       " '__init_subclass__',\n",
       " '__ior__',\n",
       " '__isub__',\n",
       " '__iter__',\n",
       " '__ixor__',\n",
       " '__le__',\n",
       " '__len__',\n",
       " '__lt__',\n",
       " '__ne__',\n",
       " '__new__',\n",
       " '__or__',\n",
       " '__rand__',\n",
       " '__reduce__',\n",
       " '__reduce_ex__',\n",
       " '__repr__',\n",
       " '__ror__',\n",
       " '__rsub__',\n",
       " '__rxor__',\n",
       " '__setattr__',\n",
       " '__sizeof__',\n",
       " '__str__',\n",
       " '__sub__',\n",
       " '__subclasshook__',\n",
       " '__xor__',\n",
       " 'add',\n",
       " 'clear',\n",
       " 'copy',\n",
       " 'difference',\n",
       " 'difference_update',\n",
       " 'discard',\n",
       " 'intersection',\n",
       " 'intersection_update',\n",
       " 'isdisjoint',\n",
       " 'issubset',\n",
       " 'issuperset',\n",
       " 'pop',\n",
       " 'remove',\n",
       " 'symmetric_difference',\n",
       " 'symmetric_difference_update',\n",
       " 'union',\n",
       " 'update']"
      ]
     },
     "execution_count": 25,
     "metadata": {},
     "output_type": "execute_result"
    }
   ],
   "source": [
    "dir(set())"
   ]
  },
  {
   "cell_type": "code",
   "execution_count": 26,
   "id": "98abd1f9",
   "metadata": {},
   "outputs": [
    {
     "name": "stdout",
     "output_type": "stream",
     "text": [
      "set()\n",
      "[]\n",
      "()\n",
      "{}\n"
     ]
    }
   ],
   "source": [
    "print(set())\n",
    "print(list())\n",
    "print(tuple())\n",
    "print(dict())"
   ]
  },
  {
   "cell_type": "code",
   "execution_count": 27,
   "id": "f43895bb",
   "metadata": {},
   "outputs": [
    {
     "name": "stdout",
     "output_type": "stream",
     "text": [
      "{1, 2, 3, 4}\n"
     ]
    }
   ],
   "source": [
    "a = {1,2,3,4,4,3,2}\n",
    "print(a)            #does not allow duplicates"
   ]
  },
  {
   "cell_type": "code",
   "execution_count": 28,
   "id": "09a7a87e",
   "metadata": {},
   "outputs": [
    {
     "data": {
      "text/plain": [
       "{1, 2, 3, 4, 11}"
      ]
     },
     "execution_count": 28,
     "metadata": {},
     "output_type": "execute_result"
    }
   ],
   "source": [
    "a = {1,2,3,4}\n",
    "a.add(11)\n",
    "a"
   ]
  },
  {
   "cell_type": "code",
   "execution_count": 29,
   "id": "b468c1a6",
   "metadata": {},
   "outputs": [
    {
     "data": {
      "text/plain": [
       "{4, '^', 'a', 'magesh'}"
      ]
     },
     "execution_count": 29,
     "metadata": {},
     "output_type": "execute_result"
    }
   ],
   "source": [
    "a = {1,2,3,4,'magesh','a','^'}\n",
    "a.pop()\n",
    "a.pop()\n",
    "a.pop()\n",
    "a"
   ]
  },
  {
   "cell_type": "code",
   "execution_count": 30,
   "id": "accd3741",
   "metadata": {},
   "outputs": [
    {
     "data": {
      "text/plain": [
       "{1, 2, 3, 4, '^', 'a'}"
      ]
     },
     "execution_count": 30,
     "metadata": {},
     "output_type": "execute_result"
    }
   ],
   "source": [
    "a = {1,2,3,4,'magesh','a','^'}\n",
    "a.remove('magesh')\n",
    "a"
   ]
  },
  {
   "cell_type": "code",
   "execution_count": 31,
   "id": "b5ca3fb1",
   "metadata": {},
   "outputs": [
    {
     "data": {
      "text/plain": [
       "{1, 3, 4, '^', 'a', 'magesh'}"
      ]
     },
     "execution_count": 31,
     "metadata": {},
     "output_type": "execute_result"
    }
   ],
   "source": [
    "a = {1,2,3,4,'magesh','a','^'}\n",
    "a.remove(2)\n",
    "a"
   ]
  },
  {
   "cell_type": "code",
   "execution_count": 32,
   "id": "a933c3c8",
   "metadata": {},
   "outputs": [
    {
     "data": {
      "text/plain": [
       "{1, 2, 3, 4, '^', 'magesh'}"
      ]
     },
     "execution_count": 32,
     "metadata": {},
     "output_type": "execute_result"
    }
   ],
   "source": [
    "a = {1,2,3,4,'magesh','a','^'}\n",
    "a.discard(\"2\")\n",
    "a.discard('a')\n",
    "a"
   ]
  },
  {
   "cell_type": "code",
   "execution_count": 33,
   "id": "3ace22a7",
   "metadata": {},
   "outputs": [
    {
     "data": {
      "text/plain": [
       "{1, 2, 3, 4, 5, 6, '^', 'a', 'magesh', 'one'}"
      ]
     },
     "execution_count": 33,
     "metadata": {},
     "output_type": "execute_result"
    }
   ],
   "source": [
    "a = {1,2,3,4,'magesh','a','^'}\n",
    "b = {5,6,3,4,'one'}\n",
    "\n",
    "a.union(b)          # all ele of A + all ele of B\n",
    "a|b"
   ]
  },
  {
   "cell_type": "code",
   "execution_count": 35,
   "id": "0af7cce6",
   "metadata": {},
   "outputs": [
    {
     "data": {
      "text/plain": [
       "{4, 5, 6}"
      ]
     },
     "execution_count": 35,
     "metadata": {},
     "output_type": "execute_result"
    }
   ],
   "source": [
    "a = {1,2,3,4,5,6}\n",
    "b = {4,5,6,7,8,9}\n",
    "\n",
    "a.intersection(b)\n",
    "a&b"
   ]
  },
  {
   "cell_type": "code",
   "execution_count": 34,
   "id": "5f9cfb91",
   "metadata": {},
   "outputs": [
    {
     "name": "stdout",
     "output_type": "stream",
     "text": [
      "{1, 2, 3}\n",
      "{8, 9, 7}\n"
     ]
    }
   ],
   "source": [
    "a = {1,2,3,4,5,6}\n",
    "b = {4,5,6,7,8,9}\n",
    "\n",
    "print(a.difference(b)) # only ele of A\n",
    "print(b.difference(a)) # only ele of B"
   ]
  },
  {
   "cell_type": "code",
   "execution_count": 36,
   "id": "ef4656a0",
   "metadata": {},
   "outputs": [
    {
     "name": "stdout",
     "output_type": "stream",
     "text": [
      "{1, 2, 3, 7, 8, 9}\n"
     ]
    }
   ],
   "source": [
    "a = {1,2,3,4,5,6}\n",
    "b = {4,5,6,7,8,9}\n",
    "\n",
    "print(a.symmetric_difference(b))"
   ]
  },
  {
   "cell_type": "code",
   "execution_count": 37,
   "id": "5df488a9",
   "metadata": {},
   "outputs": [
    {
     "name": "stdout",
     "output_type": "stream",
     "text": [
      "True\n",
      "False\n",
      "True\n"
     ]
    }
   ],
   "source": [
    "a = {1,2,3}\n",
    "b = {1,2,3,4,5,6,7,8,9}\n",
    "print(a.issubset(b))\n",
    "print(b.issubset(a))\n",
    "print(b.issuperset(a))"
   ]
  },
  {
   "cell_type": "raw",
   "id": "debb8345",
   "metadata": {},
   "source": [
    "DICT:"
   ]
  },
  {
   "cell_type": "code",
   "execution_count": 38,
   "id": "9da338b2",
   "metadata": {},
   "outputs": [
    {
     "data": {
      "text/plain": [
       "{}"
      ]
     },
     "execution_count": 38,
     "metadata": {},
     "output_type": "execute_result"
    }
   ],
   "source": [
    "dict()"
   ]
  },
  {
   "cell_type": "code",
   "execution_count": null,
   "id": "bd4dcd22",
   "metadata": {},
   "outputs": [],
   "source": [
    "dir(dict())"
   ]
  },
  {
   "cell_type": "code",
   "execution_count": 40,
   "id": "6f702852",
   "metadata": {},
   "outputs": [
    {
     "data": {
      "text/plain": [
       "{'key': 'value', 'key1': 'Deepi', 'key2': 'titi'}"
      ]
     },
     "execution_count": 40,
     "metadata": {},
     "output_type": "execute_result"
    }
   ],
   "source": [
    "a = {'key':'value' , 'key1':'value1' , 'key2':'titi' , 'key1':'Deepi'}\n",
    "a"
   ]
  },
  {
   "cell_type": "code",
   "execution_count": 39,
   "id": "5d4ab00a",
   "metadata": {},
   "outputs": [
    {
     "data": {
      "text/plain": [
       "'value1'"
      ]
     },
     "execution_count": 39,
     "metadata": {},
     "output_type": "execute_result"
    }
   ],
   "source": [
    "a = {'key': 'value', 'key1': 'value1', 'key2': 'value2' , 'name':\"Deepi\"}\n",
    "a['key1']"
   ]
  },
  {
   "cell_type": "code",
   "execution_count": 41,
   "id": "d58e6867",
   "metadata": {},
   "outputs": [
    {
     "data": {
      "text/plain": [
       "{'key': 'value',\n",
       " 'key1': 'value1',\n",
       " 'key2': 'titi',\n",
       " 'name': 'Deepi',\n",
       " 'cartoon': 'cocomelon'}"
      ]
     },
     "execution_count": 41,
     "metadata": {},
     "output_type": "execute_result"
    }
   ],
   "source": [
    "a = {'key': 'value', 'key1': 'value1', 'key2': 'titi' , 'name':\"Deepi\"}\n",
    "a['cartoon']=\"cocomelon\"\n",
    "a"
   ]
  },
  {
   "cell_type": "code",
   "execution_count": 42,
   "id": "4cfb90c7",
   "metadata": {},
   "outputs": [
    {
     "data": {
      "text/plain": [
       "{'name': 'Earth', 'age': 7000, 'sex': 'F', 'class': '100'}"
      ]
     },
     "execution_count": 42,
     "metadata": {},
     "output_type": "execute_result"
    }
   ],
   "source": [
    "school_920 = {\n",
    "    \"name\":\"Earth\",\n",
    "    \"age\" :7000,\n",
    "    \"sex\" :\"F\",\n",
    "    \"class\":\"100\"\n",
    "}\n",
    "school_920"
   ]
  },
  {
   "cell_type": "code",
   "execution_count": 43,
   "id": "940b6c6c",
   "metadata": {},
   "outputs": [
    {
     "data": {
      "text/plain": [
       "{920: {'name': 'Earth', 'age': 7000, 'sex': 'F', 'class': '100'},\n",
       " 800: {'name': 'Mars', 'age': 700, 'sex': 'M', 'class': '99'}}"
      ]
     },
     "execution_count": 43,
     "metadata": {},
     "output_type": "execute_result"
    }
   ],
   "source": [
    "school = {\n",
    "    920 : {\n",
    "    \"name\":\"Earth\",\n",
    "    \"age\" :7000,\n",
    "    \"sex\" :\"F\",\n",
    "    \"class\":\"100\"\n",
    "    } ,\n",
    "    800 : {\n",
    "        \"name\":\"Mars\",\n",
    "        \"age\" :700,\n",
    "        \"sex\" :\"M\",\n",
    "        \"class\":\"99\"\n",
    "    }\n",
    "}\n",
    "school"
   ]
  },
  {
   "cell_type": "code",
   "execution_count": null,
   "id": "05ff53cd",
   "metadata": {},
   "outputs": [],
   "source": [
    "N = int(input())\n",
    "\n",
    "if N%13==0:\n",
    "    print(\"yes\")\n",
    "    \n",
    "else:\n",
    "    print(\"no\")\n",
    "    "
   ]
  },
  {
   "cell_type": "code",
   "execution_count": null,
   "id": "738e90ab",
   "metadata": {},
   "outputs": [],
   "source": [
    "x, y = list(map(int,input().split()))\n",
    "if ((x+y)%2==0):\n",
    "    print(\"even\")\n",
    "else:\n",
    "    print('odd')"
   ]
  },
  {
   "cell_type": "code",
   "execution_count": null,
   "id": "bc67661c",
   "metadata": {},
   "outputs": [],
   "source": [
    "# a= list(map(int,input().split()))\n",
    "# count=0\n",
    "# countDigits(a)\n",
    "# count=count+1\n",
    "# print(a)\n",
    "a= 77-99\n",
    "print(int(a))"
   ]
  },
  {
   "cell_type": "code",
   "execution_count": null,
   "id": "88dbdee2",
   "metadata": {},
   "outputs": [],
   "source": [
    "num = int(input())\n",
    "print(int(num*(num+1)/2))"
   ]
  },
  {
   "cell_type": "code",
   "execution_count": null,
   "id": "25a68919",
   "metadata": {},
   "outputs": [],
   "source": [
    "S = input()\n",
    "\n",
    "if S.isnumeric():\n",
    "    print(\"yes\")\n",
    "    \n",
    "else:\n",
    "    print(\"no\")"
   ]
  },
  {
   "cell_type": "code",
   "execution_count": null,
   "id": "f4597248",
   "metadata": {},
   "outputs": [],
   "source": [
    "N = int(input())\n",
    "\n",
    "if N%2==0:\n",
    "    print(\"yes\")\n",
    "    \n",
    "else:\n",
    "    print(\"no\")"
   ]
  },
  {
   "cell_type": "code",
   "execution_count": null,
   "id": "13b7024b",
   "metadata": {},
   "outputs": [],
   "source": [
    "N = int(input())\n",
    "if N > 0 and (N & (N - 1)) == 0:\n",
    "    print(\"yes\")\n",
    "else:\n",
    "    print(\"no\")"
   ]
  },
  {
   "cell_type": "code",
   "execution_count": null,
   "id": "862535f9",
   "metadata": {},
   "outputs": [],
   "source": [
    "N = float(input())\n",
    "print(roundoff(N))"
   ]
  },
  {
   "cell_type": "code",
   "execution_count": 44,
   "id": "9cd14932",
   "metadata": {},
   "outputs": [
    {
     "data": {
      "text/plain": [
       "{920: {'name': 'Earth', 'age': 7000, 'sex': 'F', 'class': '100'},\n",
       " 800: {'name': 'Mars', 'age': 700, 'sex': 'M', 'class': '99'},\n",
       " 'name': 'Magesh'}"
      ]
     },
     "execution_count": 44,
     "metadata": {},
     "output_type": "execute_result"
    }
   ],
   "source": [
    "school[800]['name']\n",
    "school.update({\"name\":\"Magesh\"})\n",
    "school"
   ]
  },
  {
   "cell_type": "code",
   "execution_count": 45,
   "id": "1f5e908f",
   "metadata": {},
   "outputs": [
    {
     "name": "stdout",
     "output_type": "stream",
     "text": [
      "dict_keys(['name', 'age', 'sex', 'class'])\n",
      "dict_values(['Mars', 700, 'M', '99'])\n",
      "dict_items([('name', 'Mars'), ('age', 700), ('sex', 'M'), ('class', '99')])\n"
     ]
    }
   ],
   "source": [
    "a = {'name': 'Mars', 'age': 700, 'sex': 'M', 'class': '99'}\n",
    "print(a.keys()) # dict_keys - iterabledata\n",
    "print(a.values()) # dict_values - iterabledata\n",
    "print(a.items()) # dict_items - iterabledata [('name','Mars'),('age',700),...]"
   ]
  },
  {
   "cell_type": "code",
   "execution_count": null,
   "id": "fbd85b95",
   "metadata": {},
   "outputs": [],
   "source": []
  },
  {
   "cell_type": "code",
   "execution_count": null,
   "id": "6d990b86",
   "metadata": {},
   "outputs": [],
   "source": []
  }
 ],
 "metadata": {
  "kernelspec": {
   "display_name": "Python 3 (ipykernel)",
   "language": "python",
   "name": "python3"
  },
  "language_info": {
   "codemirror_mode": {
    "name": "ipython",
    "version": 3
   },
   "file_extension": ".py",
   "mimetype": "text/x-python",
   "name": "python",
   "nbconvert_exporter": "python",
   "pygments_lexer": "ipython3",
   "version": "3.10.9"
  }
 },
 "nbformat": 4,
 "nbformat_minor": 5
}
